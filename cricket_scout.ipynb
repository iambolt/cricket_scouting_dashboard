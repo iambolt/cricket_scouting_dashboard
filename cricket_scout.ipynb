{
 "cells": [
  {
   "cell_type": "code",
   "execution_count": 23,
   "id": "2095d9c9",
   "metadata": {
    "scrolled": true
   },
   "outputs": [],
   "source": [
    "import pandas as pd\n",
    "from selenium import webdriver\n",
    "from bs4 import BeautifulSoup\n",
    "url = 'http://www.bcci.tv/domestic/22699/syed-mushtaq-ali-trophy-2020-21/stats/most-runs'\n"
   ]
  },
  {
   "cell_type": "code",
   "execution_count": 24,
   "id": "cf9fc6ab",
   "metadata": {},
   "outputs": [
    {
     "name": "stdout",
     "output_type": "stream",
     "text": [
      "Total tables: 1\n",
      "    Pos             Player  Team  Runs  Mat  Inns  NO   HS    Avg   BF  \\\n",
      "0     1       N Jagadeesan  TNCA   364    8     8   3  78*  72.80  258   \n",
      "1     2      Kedar Devdhar   BCA   349    8     8   3  99*  69.80  307   \n",
      "2     3  Prabhsimran Singh   PCA   341    7     7   3  89*  85.25  240   \n",
      "3     4          A A Barot   SCA   283    5     5   0  122  56.60  153   \n",
      "4     5     Vishnu Solanki   BCA   267    8     8   3  71*  53.40  208   \n",
      "..  ...                ...   ...   ...  ...   ...  ..  ...    ...  ...   \n",
      "95   96     M B Mura Singh   TCA   101    5     5   2  61*  33.67   72   \n",
      "96   97  Rajjakuddin Ahmed  ASCA   101    5     5   1   32  25.25   56   \n",
      "97   98           U U Bose   TCA   100    5     4   0   50  25.00   84   \n",
      "98   99         Anuj Rawat  DDCA    99    5     5   3  34*  49.50   75   \n",
      "99  100    Akhilesh Sahani  ARCA    99    5     5   1  41*  24.75   71   \n",
      "\n",
      "        SR  100  50  4s  6s  \n",
      "0   141.08    0   4  31  17  \n",
      "1   113.68    0   2  35  11  \n",
      "2   142.08    0   3  24  22  \n",
      "3   184.96    1   1  32  12  \n",
      "4   128.36    0   2  21  12  \n",
      "..     ...  ...  ..  ..  ..  \n",
      "95  140.27    0   1   5   6  \n",
      "96  180.35    0   0  10   5  \n",
      "97  119.04    0   1  12   4  \n",
      "98  132.00    0   0  10   5  \n",
      "99  139.43    0   0   8   6  \n",
      "\n",
      "[100 rows x 15 columns]\n"
     ]
    }
   ],
   "source": [
    "driver = webdriver.Chrome()\n",
    "# Load the web page\n",
    "driver.get(url)# Wait for the page to fully load\n",
    "driver.implicitly_wait(5)\n",
    "soup = BeautifulSoup(driver.page_source, 'lxml')\n",
    "tables = soup.find_all('table')\n",
    "\n",
    "# Step 3: Read tables with Pandas read_html()\n",
    "dfs = pd.read_html(str(tables))\n",
    "\n",
    "print(f'Total tables: {len(dfs)}')\n",
    "print(dfs[0])\n",
    "\n",
    "driver.close()"
   ]
  },
  {
   "cell_type": "code",
   "execution_count": 31,
   "id": "abb4cba2",
   "metadata": {},
   "outputs": [],
   "source": [
    "df = pd.DataFrame(dfs[0])"
   ]
  },
  {
   "cell_type": "code",
   "execution_count": 32,
   "id": "9222aa16",
   "metadata": {},
   "outputs": [
    {
     "data": {
      "text/html": [
       "<div>\n",
       "<style scoped>\n",
       "    .dataframe tbody tr th:only-of-type {\n",
       "        vertical-align: middle;\n",
       "    }\n",
       "\n",
       "    .dataframe tbody tr th {\n",
       "        vertical-align: top;\n",
       "    }\n",
       "\n",
       "    .dataframe thead th {\n",
       "        text-align: right;\n",
       "    }\n",
       "</style>\n",
       "<table border=\"1\" class=\"dataframe\">\n",
       "  <thead>\n",
       "    <tr style=\"text-align: right;\">\n",
       "      <th></th>\n",
       "      <th>Pos</th>\n",
       "      <th>Player</th>\n",
       "      <th>Team</th>\n",
       "      <th>Runs</th>\n",
       "      <th>Mat</th>\n",
       "      <th>Inns</th>\n",
       "      <th>NO</th>\n",
       "      <th>HS</th>\n",
       "      <th>Avg</th>\n",
       "      <th>BF</th>\n",
       "      <th>SR</th>\n",
       "      <th>100</th>\n",
       "      <th>50</th>\n",
       "      <th>4s</th>\n",
       "      <th>6s</th>\n",
       "    </tr>\n",
       "  </thead>\n",
       "  <tbody>\n",
       "    <tr>\n",
       "      <th>0</th>\n",
       "      <td>1</td>\n",
       "      <td>N Jagadeesan</td>\n",
       "      <td>TNCA</td>\n",
       "      <td>364</td>\n",
       "      <td>8</td>\n",
       "      <td>8</td>\n",
       "      <td>3</td>\n",
       "      <td>78*</td>\n",
       "      <td>72.80</td>\n",
       "      <td>258</td>\n",
       "      <td>141.08</td>\n",
       "      <td>0</td>\n",
       "      <td>4</td>\n",
       "      <td>31</td>\n",
       "      <td>17</td>\n",
       "    </tr>\n",
       "    <tr>\n",
       "      <th>1</th>\n",
       "      <td>2</td>\n",
       "      <td>Kedar Devdhar</td>\n",
       "      <td>BCA</td>\n",
       "      <td>349</td>\n",
       "      <td>8</td>\n",
       "      <td>8</td>\n",
       "      <td>3</td>\n",
       "      <td>99*</td>\n",
       "      <td>69.80</td>\n",
       "      <td>307</td>\n",
       "      <td>113.68</td>\n",
       "      <td>0</td>\n",
       "      <td>2</td>\n",
       "      <td>35</td>\n",
       "      <td>11</td>\n",
       "    </tr>\n",
       "    <tr>\n",
       "      <th>2</th>\n",
       "      <td>3</td>\n",
       "      <td>Prabhsimran Singh</td>\n",
       "      <td>PCA</td>\n",
       "      <td>341</td>\n",
       "      <td>7</td>\n",
       "      <td>7</td>\n",
       "      <td>3</td>\n",
       "      <td>89*</td>\n",
       "      <td>85.25</td>\n",
       "      <td>240</td>\n",
       "      <td>142.08</td>\n",
       "      <td>0</td>\n",
       "      <td>3</td>\n",
       "      <td>24</td>\n",
       "      <td>22</td>\n",
       "    </tr>\n",
       "    <tr>\n",
       "      <th>3</th>\n",
       "      <td>4</td>\n",
       "      <td>A A Barot</td>\n",
       "      <td>SCA</td>\n",
       "      <td>283</td>\n",
       "      <td>5</td>\n",
       "      <td>5</td>\n",
       "      <td>0</td>\n",
       "      <td>122</td>\n",
       "      <td>56.60</td>\n",
       "      <td>153</td>\n",
       "      <td>184.96</td>\n",
       "      <td>1</td>\n",
       "      <td>1</td>\n",
       "      <td>32</td>\n",
       "      <td>12</td>\n",
       "    </tr>\n",
       "    <tr>\n",
       "      <th>4</th>\n",
       "      <td>5</td>\n",
       "      <td>Vishnu Solanki</td>\n",
       "      <td>BCA</td>\n",
       "      <td>267</td>\n",
       "      <td>8</td>\n",
       "      <td>8</td>\n",
       "      <td>3</td>\n",
       "      <td>71*</td>\n",
       "      <td>53.40</td>\n",
       "      <td>208</td>\n",
       "      <td>128.36</td>\n",
       "      <td>0</td>\n",
       "      <td>2</td>\n",
       "      <td>21</td>\n",
       "      <td>12</td>\n",
       "    </tr>\n",
       "    <tr>\n",
       "      <th>...</th>\n",
       "      <td>...</td>\n",
       "      <td>...</td>\n",
       "      <td>...</td>\n",
       "      <td>...</td>\n",
       "      <td>...</td>\n",
       "      <td>...</td>\n",
       "      <td>...</td>\n",
       "      <td>...</td>\n",
       "      <td>...</td>\n",
       "      <td>...</td>\n",
       "      <td>...</td>\n",
       "      <td>...</td>\n",
       "      <td>...</td>\n",
       "      <td>...</td>\n",
       "      <td>...</td>\n",
       "    </tr>\n",
       "    <tr>\n",
       "      <th>95</th>\n",
       "      <td>96</td>\n",
       "      <td>M B Mura Singh</td>\n",
       "      <td>TCA</td>\n",
       "      <td>101</td>\n",
       "      <td>5</td>\n",
       "      <td>5</td>\n",
       "      <td>2</td>\n",
       "      <td>61*</td>\n",
       "      <td>33.67</td>\n",
       "      <td>72</td>\n",
       "      <td>140.27</td>\n",
       "      <td>0</td>\n",
       "      <td>1</td>\n",
       "      <td>5</td>\n",
       "      <td>6</td>\n",
       "    </tr>\n",
       "    <tr>\n",
       "      <th>96</th>\n",
       "      <td>97</td>\n",
       "      <td>Rajjakuddin Ahmed</td>\n",
       "      <td>ASCA</td>\n",
       "      <td>101</td>\n",
       "      <td>5</td>\n",
       "      <td>5</td>\n",
       "      <td>1</td>\n",
       "      <td>32</td>\n",
       "      <td>25.25</td>\n",
       "      <td>56</td>\n",
       "      <td>180.35</td>\n",
       "      <td>0</td>\n",
       "      <td>0</td>\n",
       "      <td>10</td>\n",
       "      <td>5</td>\n",
       "    </tr>\n",
       "    <tr>\n",
       "      <th>97</th>\n",
       "      <td>98</td>\n",
       "      <td>U U Bose</td>\n",
       "      <td>TCA</td>\n",
       "      <td>100</td>\n",
       "      <td>5</td>\n",
       "      <td>4</td>\n",
       "      <td>0</td>\n",
       "      <td>50</td>\n",
       "      <td>25.00</td>\n",
       "      <td>84</td>\n",
       "      <td>119.04</td>\n",
       "      <td>0</td>\n",
       "      <td>1</td>\n",
       "      <td>12</td>\n",
       "      <td>4</td>\n",
       "    </tr>\n",
       "    <tr>\n",
       "      <th>98</th>\n",
       "      <td>99</td>\n",
       "      <td>Anuj Rawat</td>\n",
       "      <td>DDCA</td>\n",
       "      <td>99</td>\n",
       "      <td>5</td>\n",
       "      <td>5</td>\n",
       "      <td>3</td>\n",
       "      <td>34*</td>\n",
       "      <td>49.50</td>\n",
       "      <td>75</td>\n",
       "      <td>132.00</td>\n",
       "      <td>0</td>\n",
       "      <td>0</td>\n",
       "      <td>10</td>\n",
       "      <td>5</td>\n",
       "    </tr>\n",
       "    <tr>\n",
       "      <th>99</th>\n",
       "      <td>100</td>\n",
       "      <td>Akhilesh Sahani</td>\n",
       "      <td>ARCA</td>\n",
       "      <td>99</td>\n",
       "      <td>5</td>\n",
       "      <td>5</td>\n",
       "      <td>1</td>\n",
       "      <td>41*</td>\n",
       "      <td>24.75</td>\n",
       "      <td>71</td>\n",
       "      <td>139.43</td>\n",
       "      <td>0</td>\n",
       "      <td>0</td>\n",
       "      <td>8</td>\n",
       "      <td>6</td>\n",
       "    </tr>\n",
       "  </tbody>\n",
       "</table>\n",
       "<p>100 rows × 15 columns</p>\n",
       "</div>"
      ],
      "text/plain": [
       "    Pos             Player  Team  Runs  Mat  Inns  NO   HS    Avg   BF  \\\n",
       "0     1       N Jagadeesan  TNCA   364    8     8   3  78*  72.80  258   \n",
       "1     2      Kedar Devdhar   BCA   349    8     8   3  99*  69.80  307   \n",
       "2     3  Prabhsimran Singh   PCA   341    7     7   3  89*  85.25  240   \n",
       "3     4          A A Barot   SCA   283    5     5   0  122  56.60  153   \n",
       "4     5     Vishnu Solanki   BCA   267    8     8   3  71*  53.40  208   \n",
       "..  ...                ...   ...   ...  ...   ...  ..  ...    ...  ...   \n",
       "95   96     M B Mura Singh   TCA   101    5     5   2  61*  33.67   72   \n",
       "96   97  Rajjakuddin Ahmed  ASCA   101    5     5   1   32  25.25   56   \n",
       "97   98           U U Bose   TCA   100    5     4   0   50  25.00   84   \n",
       "98   99         Anuj Rawat  DDCA    99    5     5   3  34*  49.50   75   \n",
       "99  100    Akhilesh Sahani  ARCA    99    5     5   1  41*  24.75   71   \n",
       "\n",
       "        SR  100  50  4s  6s  \n",
       "0   141.08    0   4  31  17  \n",
       "1   113.68    0   2  35  11  \n",
       "2   142.08    0   3  24  22  \n",
       "3   184.96    1   1  32  12  \n",
       "4   128.36    0   2  21  12  \n",
       "..     ...  ...  ..  ..  ..  \n",
       "95  140.27    0   1   5   6  \n",
       "96  180.35    0   0  10   5  \n",
       "97  119.04    0   1  12   4  \n",
       "98  132.00    0   0  10   5  \n",
       "99  139.43    0   0   8   6  \n",
       "\n",
       "[100 rows x 15 columns]"
      ]
     },
     "execution_count": 32,
     "metadata": {},
     "output_type": "execute_result"
    }
   ],
   "source": [
    "df"
   ]
  },
  {
   "cell_type": "code",
   "execution_count": 34,
   "id": "30a9d4e7",
   "metadata": {},
   "outputs": [],
   "source": [
    "import plotly.express as px\n",
    "# df = px.data.iris()\n",
    "# fig = px.scatter_3d(df, x='sepal_length', y='sepal_width', z='petal_width',\n",
    "#               color='species')\n",
    "# fig.show()"
   ]
  },
  {
   "cell_type": "code",
   "execution_count": 69,
   "id": "7d54621b",
   "metadata": {},
   "outputs": [],
   "source": [
    "top_ten = df.iloc[0:60]"
   ]
  },
  {
   "cell_type": "code",
   "execution_count": 70,
   "id": "f045a626",
   "metadata": {},
   "outputs": [
    {
     "data": {
      "text/html": [
       "<div>\n",
       "<style scoped>\n",
       "    .dataframe tbody tr th:only-of-type {\n",
       "        vertical-align: middle;\n",
       "    }\n",
       "\n",
       "    .dataframe tbody tr th {\n",
       "        vertical-align: top;\n",
       "    }\n",
       "\n",
       "    .dataframe thead th {\n",
       "        text-align: right;\n",
       "    }\n",
       "</style>\n",
       "<table border=\"1\" class=\"dataframe\">\n",
       "  <thead>\n",
       "    <tr style=\"text-align: right;\">\n",
       "      <th></th>\n",
       "      <th>Pos</th>\n",
       "      <th>Player</th>\n",
       "      <th>Team</th>\n",
       "      <th>Runs</th>\n",
       "      <th>Mat</th>\n",
       "      <th>Inns</th>\n",
       "      <th>NO</th>\n",
       "      <th>HS</th>\n",
       "      <th>Avg</th>\n",
       "      <th>BF</th>\n",
       "      <th>SR</th>\n",
       "      <th>100</th>\n",
       "      <th>50</th>\n",
       "      <th>4s</th>\n",
       "      <th>6s</th>\n",
       "    </tr>\n",
       "  </thead>\n",
       "  <tbody>\n",
       "    <tr>\n",
       "      <th>0</th>\n",
       "      <td>1</td>\n",
       "      <td>N Jagadeesan</td>\n",
       "      <td>TNCA</td>\n",
       "      <td>364</td>\n",
       "      <td>8</td>\n",
       "      <td>8</td>\n",
       "      <td>3</td>\n",
       "      <td>78*</td>\n",
       "      <td>72.80</td>\n",
       "      <td>258</td>\n",
       "      <td>141.08</td>\n",
       "      <td>0</td>\n",
       "      <td>4</td>\n",
       "      <td>31</td>\n",
       "      <td>17</td>\n",
       "    </tr>\n",
       "    <tr>\n",
       "      <th>1</th>\n",
       "      <td>2</td>\n",
       "      <td>Kedar Devdhar</td>\n",
       "      <td>BCA</td>\n",
       "      <td>349</td>\n",
       "      <td>8</td>\n",
       "      <td>8</td>\n",
       "      <td>3</td>\n",
       "      <td>99*</td>\n",
       "      <td>69.80</td>\n",
       "      <td>307</td>\n",
       "      <td>113.68</td>\n",
       "      <td>0</td>\n",
       "      <td>2</td>\n",
       "      <td>35</td>\n",
       "      <td>11</td>\n",
       "    </tr>\n",
       "    <tr>\n",
       "      <th>2</th>\n",
       "      <td>3</td>\n",
       "      <td>Prabhsimran Singh</td>\n",
       "      <td>PCA</td>\n",
       "      <td>341</td>\n",
       "      <td>7</td>\n",
       "      <td>7</td>\n",
       "      <td>3</td>\n",
       "      <td>89*</td>\n",
       "      <td>85.25</td>\n",
       "      <td>240</td>\n",
       "      <td>142.08</td>\n",
       "      <td>0</td>\n",
       "      <td>3</td>\n",
       "      <td>24</td>\n",
       "      <td>22</td>\n",
       "    </tr>\n",
       "    <tr>\n",
       "      <th>3</th>\n",
       "      <td>4</td>\n",
       "      <td>A A Barot</td>\n",
       "      <td>SCA</td>\n",
       "      <td>283</td>\n",
       "      <td>5</td>\n",
       "      <td>5</td>\n",
       "      <td>0</td>\n",
       "      <td>122</td>\n",
       "      <td>56.60</td>\n",
       "      <td>153</td>\n",
       "      <td>184.96</td>\n",
       "      <td>1</td>\n",
       "      <td>1</td>\n",
       "      <td>32</td>\n",
       "      <td>12</td>\n",
       "    </tr>\n",
       "    <tr>\n",
       "      <th>4</th>\n",
       "      <td>5</td>\n",
       "      <td>Vishnu Solanki</td>\n",
       "      <td>BCA</td>\n",
       "      <td>267</td>\n",
       "      <td>8</td>\n",
       "      <td>8</td>\n",
       "      <td>3</td>\n",
       "      <td>71*</td>\n",
       "      <td>53.40</td>\n",
       "      <td>208</td>\n",
       "      <td>128.36</td>\n",
       "      <td>0</td>\n",
       "      <td>2</td>\n",
       "      <td>21</td>\n",
       "      <td>12</td>\n",
       "    </tr>\n",
       "    <tr>\n",
       "      <th>5</th>\n",
       "      <td>6</td>\n",
       "      <td>Riyan Parag</td>\n",
       "      <td>ASCA</td>\n",
       "      <td>261</td>\n",
       "      <td>5</td>\n",
       "      <td>5</td>\n",
       "      <td>2</td>\n",
       "      <td>77*</td>\n",
       "      <td>87.00</td>\n",
       "      <td>184</td>\n",
       "      <td>141.84</td>\n",
       "      <td>0</td>\n",
       "      <td>3</td>\n",
       "      <td>13</td>\n",
       "      <td>17</td>\n",
       "    </tr>\n",
       "    <tr>\n",
       "      <th>6</th>\n",
       "      <td>7</td>\n",
       "      <td>Virat Singh</td>\n",
       "      <td>JSCA</td>\n",
       "      <td>250</td>\n",
       "      <td>5</td>\n",
       "      <td>5</td>\n",
       "      <td>1</td>\n",
       "      <td>103*</td>\n",
       "      <td>62.50</td>\n",
       "      <td>166</td>\n",
       "      <td>150.60</td>\n",
       "      <td>1</td>\n",
       "      <td>1</td>\n",
       "      <td>29</td>\n",
       "      <td>6</td>\n",
       "    </tr>\n",
       "    <tr>\n",
       "      <th>7</th>\n",
       "      <td>8</td>\n",
       "      <td>S R Chauhan</td>\n",
       "      <td>HCA</td>\n",
       "      <td>249</td>\n",
       "      <td>6</td>\n",
       "      <td>6</td>\n",
       "      <td>1</td>\n",
       "      <td>59</td>\n",
       "      <td>49.80</td>\n",
       "      <td>199</td>\n",
       "      <td>125.12</td>\n",
       "      <td>0</td>\n",
       "      <td>1</td>\n",
       "      <td>30</td>\n",
       "      <td>3</td>\n",
       "    </tr>\n",
       "    <tr>\n",
       "      <th>8</th>\n",
       "      <td>9</td>\n",
       "      <td>C Hari Nishaanth</td>\n",
       "      <td>TNCA</td>\n",
       "      <td>246</td>\n",
       "      <td>8</td>\n",
       "      <td>8</td>\n",
       "      <td>2</td>\n",
       "      <td>92*</td>\n",
       "      <td>41.00</td>\n",
       "      <td>206</td>\n",
       "      <td>119.41</td>\n",
       "      <td>0</td>\n",
       "      <td>1</td>\n",
       "      <td>27</td>\n",
       "      <td>6</td>\n",
       "    </tr>\n",
       "    <tr>\n",
       "      <th>9</th>\n",
       "      <td>10</td>\n",
       "      <td>Rahul Singh Gahlaut</td>\n",
       "      <td>SSCB</td>\n",
       "      <td>244</td>\n",
       "      <td>5</td>\n",
       "      <td>5</td>\n",
       "      <td>2</td>\n",
       "      <td>76*</td>\n",
       "      <td>81.33</td>\n",
       "      <td>138</td>\n",
       "      <td>176.81</td>\n",
       "      <td>0</td>\n",
       "      <td>3</td>\n",
       "      <td>22</td>\n",
       "      <td>12</td>\n",
       "    </tr>\n",
       "    <tr>\n",
       "      <th>10</th>\n",
       "      <td>11</td>\n",
       "      <td>Sheldon Jackson</td>\n",
       "      <td>CAP</td>\n",
       "      <td>242</td>\n",
       "      <td>5</td>\n",
       "      <td>5</td>\n",
       "      <td>2</td>\n",
       "      <td>106*</td>\n",
       "      <td>80.67</td>\n",
       "      <td>156</td>\n",
       "      <td>155.12</td>\n",
       "      <td>1</td>\n",
       "      <td>1</td>\n",
       "      <td>20</td>\n",
       "      <td>13</td>\n",
       "    </tr>\n",
       "    <tr>\n",
       "      <th>11</th>\n",
       "      <td>12</td>\n",
       "      <td>Venkatesh Iyer</td>\n",
       "      <td>MPCA</td>\n",
       "      <td>227</td>\n",
       "      <td>5</td>\n",
       "      <td>5</td>\n",
       "      <td>2</td>\n",
       "      <td>88*</td>\n",
       "      <td>75.67</td>\n",
       "      <td>152</td>\n",
       "      <td>149.34</td>\n",
       "      <td>0</td>\n",
       "      <td>2</td>\n",
       "      <td>29</td>\n",
       "      <td>5</td>\n",
       "    </tr>\n",
       "    <tr>\n",
       "      <th>12</th>\n",
       "      <td>13</td>\n",
       "      <td>Rajat Patidar</td>\n",
       "      <td>MPCA</td>\n",
       "      <td>221</td>\n",
       "      <td>5</td>\n",
       "      <td>5</td>\n",
       "      <td>0</td>\n",
       "      <td>96</td>\n",
       "      <td>44.20</td>\n",
       "      <td>144</td>\n",
       "      <td>153.47</td>\n",
       "      <td>0</td>\n",
       "      <td>3</td>\n",
       "      <td>21</td>\n",
       "      <td>8</td>\n",
       "    </tr>\n",
       "    <tr>\n",
       "      <th>13</th>\n",
       "      <td>14</td>\n",
       "      <td>Devdutt Padikkal</td>\n",
       "      <td>KSCA</td>\n",
       "      <td>218</td>\n",
       "      <td>6</td>\n",
       "      <td>6</td>\n",
       "      <td>1</td>\n",
       "      <td>99*</td>\n",
       "      <td>43.60</td>\n",
       "      <td>162</td>\n",
       "      <td>134.56</td>\n",
       "      <td>0</td>\n",
       "      <td>1</td>\n",
       "      <td>23</td>\n",
       "      <td>9</td>\n",
       "    </tr>\n",
       "    <tr>\n",
       "      <th>14</th>\n",
       "      <td>15</td>\n",
       "      <td>Jay Bista</td>\n",
       "      <td>CAU</td>\n",
       "      <td>217</td>\n",
       "      <td>5</td>\n",
       "      <td>5</td>\n",
       "      <td>1</td>\n",
       "      <td>92</td>\n",
       "      <td>54.25</td>\n",
       "      <td>162</td>\n",
       "      <td>133.95</td>\n",
       "      <td>0</td>\n",
       "      <td>2</td>\n",
       "      <td>24</td>\n",
       "      <td>6</td>\n",
       "    </tr>\n",
       "    <tr>\n",
       "      <th>15</th>\n",
       "      <td>16</td>\n",
       "      <td>Mohammed Azharuddeen</td>\n",
       "      <td>KCA</td>\n",
       "      <td>214</td>\n",
       "      <td>5</td>\n",
       "      <td>5</td>\n",
       "      <td>1</td>\n",
       "      <td>137*</td>\n",
       "      <td>53.50</td>\n",
       "      <td>110</td>\n",
       "      <td>194.54</td>\n",
       "      <td>1</td>\n",
       "      <td>0</td>\n",
       "      <td>17</td>\n",
       "      <td>15</td>\n",
       "    </tr>\n",
       "    <tr>\n",
       "      <th>16</th>\n",
       "      <td>17</td>\n",
       "      <td>Vivek Singh</td>\n",
       "      <td>CAB</td>\n",
       "      <td>208</td>\n",
       "      <td>5</td>\n",
       "      <td>5</td>\n",
       "      <td>2</td>\n",
       "      <td>100*</td>\n",
       "      <td>69.33</td>\n",
       "      <td>132</td>\n",
       "      <td>157.57</td>\n",
       "      <td>1</td>\n",
       "      <td>1</td>\n",
       "      <td>29</td>\n",
       "      <td>6</td>\n",
       "    </tr>\n",
       "    <tr>\n",
       "      <th>17</th>\n",
       "      <td>18</td>\n",
       "      <td>Abhishek Sharma</td>\n",
       "      <td>PCA</td>\n",
       "      <td>206</td>\n",
       "      <td>7</td>\n",
       "      <td>7</td>\n",
       "      <td>1</td>\n",
       "      <td>107</td>\n",
       "      <td>34.33</td>\n",
       "      <td>161</td>\n",
       "      <td>127.95</td>\n",
       "      <td>1</td>\n",
       "      <td>1</td>\n",
       "      <td>13</td>\n",
       "      <td>14</td>\n",
       "    </tr>\n",
       "    <tr>\n",
       "      <th>18</th>\n",
       "      <td>19</td>\n",
       "      <td>Prerak Mankad</td>\n",
       "      <td>SCA</td>\n",
       "      <td>205</td>\n",
       "      <td>5</td>\n",
       "      <td>5</td>\n",
       "      <td>1</td>\n",
       "      <td>61*</td>\n",
       "      <td>51.25</td>\n",
       "      <td>113</td>\n",
       "      <td>181.41</td>\n",
       "      <td>0</td>\n",
       "      <td>3</td>\n",
       "      <td>21</td>\n",
       "      <td>10</td>\n",
       "    </tr>\n",
       "    <tr>\n",
       "      <th>19</th>\n",
       "      <td>20</td>\n",
       "      <td>Punit Bisht</td>\n",
       "      <td>MECA</td>\n",
       "      <td>204</td>\n",
       "      <td>5</td>\n",
       "      <td>4</td>\n",
       "      <td>2</td>\n",
       "      <td>146*</td>\n",
       "      <td>102.00</td>\n",
       "      <td>94</td>\n",
       "      <td>217.02</td>\n",
       "      <td>1</td>\n",
       "      <td>0</td>\n",
       "      <td>15</td>\n",
       "      <td>18</td>\n",
       "    </tr>\n",
       "    <tr>\n",
       "      <th>20</th>\n",
       "      <td>21</td>\n",
       "      <td>H J Rana</td>\n",
       "      <td>HCA</td>\n",
       "      <td>203</td>\n",
       "      <td>6</td>\n",
       "      <td>6</td>\n",
       "      <td>1</td>\n",
       "      <td>75*</td>\n",
       "      <td>40.60</td>\n",
       "      <td>153</td>\n",
       "      <td>132.67</td>\n",
       "      <td>0</td>\n",
       "      <td>2</td>\n",
       "      <td>25</td>\n",
       "      <td>5</td>\n",
       "    </tr>\n",
       "    <tr>\n",
       "      <th>21</th>\n",
       "      <td>22</td>\n",
       "      <td>Shivam Bhambri</td>\n",
       "      <td>UTCA</td>\n",
       "      <td>198</td>\n",
       "      <td>4</td>\n",
       "      <td>4</td>\n",
       "      <td>0</td>\n",
       "      <td>75</td>\n",
       "      <td>49.50</td>\n",
       "      <td>143</td>\n",
       "      <td>138.46</td>\n",
       "      <td>0</td>\n",
       "      <td>3</td>\n",
       "      <td>18</td>\n",
       "      <td>7</td>\n",
       "    </tr>\n",
       "    <tr>\n",
       "      <th>22</th>\n",
       "      <td>23</td>\n",
       "      <td>Ankit Lamba</td>\n",
       "      <td>RCA</td>\n",
       "      <td>198</td>\n",
       "      <td>6</td>\n",
       "      <td>6</td>\n",
       "      <td>0</td>\n",
       "      <td>51</td>\n",
       "      <td>33.00</td>\n",
       "      <td>189</td>\n",
       "      <td>104.76</td>\n",
       "      <td>0</td>\n",
       "      <td>1</td>\n",
       "      <td>17</td>\n",
       "      <td>4</td>\n",
       "    </tr>\n",
       "    <tr>\n",
       "      <th>23</th>\n",
       "      <td>24</td>\n",
       "      <td>Milind</td>\n",
       "      <td>TCA</td>\n",
       "      <td>195</td>\n",
       "      <td>5</td>\n",
       "      <td>5</td>\n",
       "      <td>2</td>\n",
       "      <td>64*</td>\n",
       "      <td>65.00</td>\n",
       "      <td>155</td>\n",
       "      <td>125.80</td>\n",
       "      <td>0</td>\n",
       "      <td>2</td>\n",
       "      <td>11</td>\n",
       "      <td>8</td>\n",
       "    </tr>\n",
       "    <tr>\n",
       "      <th>24</th>\n",
       "      <td>25</td>\n",
       "      <td>K M Jadhav</td>\n",
       "      <td>MHCA</td>\n",
       "      <td>193</td>\n",
       "      <td>5</td>\n",
       "      <td>5</td>\n",
       "      <td>1</td>\n",
       "      <td>84*</td>\n",
       "      <td>48.25</td>\n",
       "      <td>145</td>\n",
       "      <td>133.10</td>\n",
       "      <td>0</td>\n",
       "      <td>2</td>\n",
       "      <td>13</td>\n",
       "      <td>11</td>\n",
       "    </tr>\n",
       "    <tr>\n",
       "      <th>25</th>\n",
       "      <td>26</td>\n",
       "      <td>S S Mundhe</td>\n",
       "      <td>NCA</td>\n",
       "      <td>191</td>\n",
       "      <td>4</td>\n",
       "      <td>4</td>\n",
       "      <td>2</td>\n",
       "      <td>69*</td>\n",
       "      <td>95.50</td>\n",
       "      <td>135</td>\n",
       "      <td>141.48</td>\n",
       "      <td>0</td>\n",
       "      <td>2</td>\n",
       "      <td>19</td>\n",
       "      <td>6</td>\n",
       "    </tr>\n",
       "    <tr>\n",
       "      <th>26</th>\n",
       "      <td>27</td>\n",
       "      <td>Mandeep Singh</td>\n",
       "      <td>PCA</td>\n",
       "      <td>185</td>\n",
       "      <td>7</td>\n",
       "      <td>4</td>\n",
       "      <td>3</td>\n",
       "      <td>99*</td>\n",
       "      <td>185.00</td>\n",
       "      <td>130</td>\n",
       "      <td>142.30</td>\n",
       "      <td>0</td>\n",
       "      <td>1</td>\n",
       "      <td>18</td>\n",
       "      <td>8</td>\n",
       "    </tr>\n",
       "    <tr>\n",
       "      <th>27</th>\n",
       "      <td>28</td>\n",
       "      <td>Dinesh Karthik</td>\n",
       "      <td>TNCA</td>\n",
       "      <td>183</td>\n",
       "      <td>8</td>\n",
       "      <td>6</td>\n",
       "      <td>3</td>\n",
       "      <td>47*</td>\n",
       "      <td>61.00</td>\n",
       "      <td>116</td>\n",
       "      <td>157.75</td>\n",
       "      <td>0</td>\n",
       "      <td>0</td>\n",
       "      <td>18</td>\n",
       "      <td>6</td>\n",
       "    </tr>\n",
       "    <tr>\n",
       "      <th>28</th>\n",
       "      <td>29</td>\n",
       "      <td>Nitish Rana</td>\n",
       "      <td>DDCA</td>\n",
       "      <td>183</td>\n",
       "      <td>5</td>\n",
       "      <td>5</td>\n",
       "      <td>0</td>\n",
       "      <td>74</td>\n",
       "      <td>36.60</td>\n",
       "      <td>111</td>\n",
       "      <td>164.86</td>\n",
       "      <td>0</td>\n",
       "      <td>2</td>\n",
       "      <td>23</td>\n",
       "      <td>8</td>\n",
       "    </tr>\n",
       "    <tr>\n",
       "      <th>29</th>\n",
       "      <td>30</td>\n",
       "      <td>Mrunal Devdhar</td>\n",
       "      <td>RSPB</td>\n",
       "      <td>181</td>\n",
       "      <td>5</td>\n",
       "      <td>5</td>\n",
       "      <td>1</td>\n",
       "      <td>61*</td>\n",
       "      <td>45.25</td>\n",
       "      <td>158</td>\n",
       "      <td>114.55</td>\n",
       "      <td>0</td>\n",
       "      <td>3</td>\n",
       "      <td>21</td>\n",
       "      <td>3</td>\n",
       "    </tr>\n",
       "    <tr>\n",
       "      <th>30</th>\n",
       "      <td>31</td>\n",
       "      <td>M K Lomror</td>\n",
       "      <td>RCA</td>\n",
       "      <td>173</td>\n",
       "      <td>7</td>\n",
       "      <td>7</td>\n",
       "      <td>2</td>\n",
       "      <td>78*</td>\n",
       "      <td>34.60</td>\n",
       "      <td>108</td>\n",
       "      <td>160.18</td>\n",
       "      <td>0</td>\n",
       "      <td>2</td>\n",
       "      <td>11</td>\n",
       "      <td>10</td>\n",
       "    </tr>\n",
       "    <tr>\n",
       "      <th>31</th>\n",
       "      <td>32</td>\n",
       "      <td>Himmat Singh</td>\n",
       "      <td>DDCA</td>\n",
       "      <td>171</td>\n",
       "      <td>5</td>\n",
       "      <td>5</td>\n",
       "      <td>2</td>\n",
       "      <td>53</td>\n",
       "      <td>57.00</td>\n",
       "      <td>115</td>\n",
       "      <td>148.69</td>\n",
       "      <td>0</td>\n",
       "      <td>2</td>\n",
       "      <td>12</td>\n",
       "      <td>11</td>\n",
       "    </tr>\n",
       "    <tr>\n",
       "      <th>32</th>\n",
       "      <td>33</td>\n",
       "      <td>Karan Sharma</td>\n",
       "      <td>UPCA</td>\n",
       "      <td>168</td>\n",
       "      <td>5</td>\n",
       "      <td>5</td>\n",
       "      <td>1</td>\n",
       "      <td>68*</td>\n",
       "      <td>42.00</td>\n",
       "      <td>103</td>\n",
       "      <td>163.10</td>\n",
       "      <td>0</td>\n",
       "      <td>2</td>\n",
       "      <td>14</td>\n",
       "      <td>10</td>\n",
       "    </tr>\n",
       "    <tr>\n",
       "      <th>33</th>\n",
       "      <td>34</td>\n",
       "      <td>Mahrour</td>\n",
       "      <td>BICA</td>\n",
       "      <td>168</td>\n",
       "      <td>6</td>\n",
       "      <td>6</td>\n",
       "      <td>1</td>\n",
       "      <td>68*</td>\n",
       "      <td>33.60</td>\n",
       "      <td>158</td>\n",
       "      <td>106.32</td>\n",
       "      <td>0</td>\n",
       "      <td>2</td>\n",
       "      <td>15</td>\n",
       "      <td>5</td>\n",
       "    </tr>\n",
       "    <tr>\n",
       "      <th>34</th>\n",
       "      <td>35</td>\n",
       "      <td>Lakhan Singh</td>\n",
       "      <td>SSCB</td>\n",
       "      <td>167</td>\n",
       "      <td>5</td>\n",
       "      <td>5</td>\n",
       "      <td>0</td>\n",
       "      <td>66</td>\n",
       "      <td>33.40</td>\n",
       "      <td>131</td>\n",
       "      <td>127.48</td>\n",
       "      <td>0</td>\n",
       "      <td>1</td>\n",
       "      <td>21</td>\n",
       "      <td>3</td>\n",
       "    </tr>\n",
       "    <tr>\n",
       "      <th>35</th>\n",
       "      <td>36</td>\n",
       "      <td>Ashok Menaria</td>\n",
       "      <td>RCA</td>\n",
       "      <td>166</td>\n",
       "      <td>7</td>\n",
       "      <td>7</td>\n",
       "      <td>1</td>\n",
       "      <td>67</td>\n",
       "      <td>27.67</td>\n",
       "      <td>134</td>\n",
       "      <td>123.88</td>\n",
       "      <td>0</td>\n",
       "      <td>2</td>\n",
       "      <td>16</td>\n",
       "      <td>5</td>\n",
       "    </tr>\n",
       "    <tr>\n",
       "      <th>36</th>\n",
       "      <td>37</td>\n",
       "      <td>K B Arun Karthick</td>\n",
       "      <td>TNCA</td>\n",
       "      <td>163</td>\n",
       "      <td>8</td>\n",
       "      <td>6</td>\n",
       "      <td>2</td>\n",
       "      <td>89*</td>\n",
       "      <td>40.75</td>\n",
       "      <td>115</td>\n",
       "      <td>141.73</td>\n",
       "      <td>0</td>\n",
       "      <td>1</td>\n",
       "      <td>17</td>\n",
       "      <td>5</td>\n",
       "    </tr>\n",
       "    <tr>\n",
       "      <th>37</th>\n",
       "      <td>38</td>\n",
       "      <td>P S Chopra</td>\n",
       "      <td>HPCA</td>\n",
       "      <td>162</td>\n",
       "      <td>5</td>\n",
       "      <td>5</td>\n",
       "      <td>1</td>\n",
       "      <td>54*</td>\n",
       "      <td>40.50</td>\n",
       "      <td>144</td>\n",
       "      <td>112.50</td>\n",
       "      <td>0</td>\n",
       "      <td>1</td>\n",
       "      <td>17</td>\n",
       "      <td>5</td>\n",
       "    </tr>\n",
       "    <tr>\n",
       "      <th>38</th>\n",
       "      <td>39</td>\n",
       "      <td>Sachin Baby</td>\n",
       "      <td>KCA</td>\n",
       "      <td>161</td>\n",
       "      <td>5</td>\n",
       "      <td>5</td>\n",
       "      <td>2</td>\n",
       "      <td>68</td>\n",
       "      <td>53.67</td>\n",
       "      <td>107</td>\n",
       "      <td>150.46</td>\n",
       "      <td>0</td>\n",
       "      <td>2</td>\n",
       "      <td>7</td>\n",
       "      <td>11</td>\n",
       "    </tr>\n",
       "    <tr>\n",
       "      <th>39</th>\n",
       "      <td>40</td>\n",
       "      <td>Amit Verma</td>\n",
       "      <td>GOACA</td>\n",
       "      <td>161</td>\n",
       "      <td>5</td>\n",
       "      <td>5</td>\n",
       "      <td>1</td>\n",
       "      <td>72*</td>\n",
       "      <td>40.25</td>\n",
       "      <td>113</td>\n",
       "      <td>142.47</td>\n",
       "      <td>0</td>\n",
       "      <td>1</td>\n",
       "      <td>9</td>\n",
       "      <td>9</td>\n",
       "    </tr>\n",
       "    <tr>\n",
       "      <th>40</th>\n",
       "      <td>41</td>\n",
       "      <td>Shivam Dube</td>\n",
       "      <td>MCA</td>\n",
       "      <td>161</td>\n",
       "      <td>5</td>\n",
       "      <td>5</td>\n",
       "      <td>1</td>\n",
       "      <td>63</td>\n",
       "      <td>40.25</td>\n",
       "      <td>116</td>\n",
       "      <td>138.79</td>\n",
       "      <td>0</td>\n",
       "      <td>1</td>\n",
       "      <td>10</td>\n",
       "      <td>10</td>\n",
       "    </tr>\n",
       "    <tr>\n",
       "      <th>41</th>\n",
       "      <td>42</td>\n",
       "      <td>Robin</td>\n",
       "      <td>KCA</td>\n",
       "      <td>161</td>\n",
       "      <td>5</td>\n",
       "      <td>5</td>\n",
       "      <td>0</td>\n",
       "      <td>91</td>\n",
       "      <td>32.20</td>\n",
       "      <td>115</td>\n",
       "      <td>140.00</td>\n",
       "      <td>0</td>\n",
       "      <td>1</td>\n",
       "      <td>13</td>\n",
       "      <td>8</td>\n",
       "    </tr>\n",
       "    <tr>\n",
       "      <th>42</th>\n",
       "      <td>43</td>\n",
       "      <td>Aniruddha</td>\n",
       "      <td>KSCA</td>\n",
       "      <td>160</td>\n",
       "      <td>6</td>\n",
       "      <td>6</td>\n",
       "      <td>1</td>\n",
       "      <td>64*</td>\n",
       "      <td>32.00</td>\n",
       "      <td>152</td>\n",
       "      <td>105.26</td>\n",
       "      <td>0</td>\n",
       "      <td>1</td>\n",
       "      <td>8</td>\n",
       "      <td>5</td>\n",
       "    </tr>\n",
       "    <tr>\n",
       "      <th>43</th>\n",
       "      <td>44</td>\n",
       "      <td>Parth Sahani</td>\n",
       "      <td>MPCA</td>\n",
       "      <td>159</td>\n",
       "      <td>5</td>\n",
       "      <td>5</td>\n",
       "      <td>2</td>\n",
       "      <td>74</td>\n",
       "      <td>53.00</td>\n",
       "      <td>110</td>\n",
       "      <td>144.54</td>\n",
       "      <td>0</td>\n",
       "      <td>2</td>\n",
       "      <td>8</td>\n",
       "      <td>9</td>\n",
       "    </tr>\n",
       "    <tr>\n",
       "      <th>44</th>\n",
       "      <td>45</td>\n",
       "      <td>Shreevats Goswami</td>\n",
       "      <td>CAB</td>\n",
       "      <td>158</td>\n",
       "      <td>5</td>\n",
       "      <td>5</td>\n",
       "      <td>1</td>\n",
       "      <td>69*</td>\n",
       "      <td>39.50</td>\n",
       "      <td>119</td>\n",
       "      <td>132.77</td>\n",
       "      <td>0</td>\n",
       "      <td>1</td>\n",
       "      <td>24</td>\n",
       "      <td>1</td>\n",
       "    </tr>\n",
       "    <tr>\n",
       "      <th>45</th>\n",
       "      <td>46</td>\n",
       "      <td>N S Shaikh</td>\n",
       "      <td>MHCA</td>\n",
       "      <td>157</td>\n",
       "      <td>5</td>\n",
       "      <td>5</td>\n",
       "      <td>1</td>\n",
       "      <td>78*</td>\n",
       "      <td>39.25</td>\n",
       "      <td>142</td>\n",
       "      <td>110.56</td>\n",
       "      <td>0</td>\n",
       "      <td>1</td>\n",
       "      <td>14</td>\n",
       "      <td>3</td>\n",
       "    </tr>\n",
       "    <tr>\n",
       "      <th>46</th>\n",
       "      <td>47</td>\n",
       "      <td>Manan Vohra</td>\n",
       "      <td>UTCA</td>\n",
       "      <td>154</td>\n",
       "      <td>4</td>\n",
       "      <td>4</td>\n",
       "      <td>0</td>\n",
       "      <td>85</td>\n",
       "      <td>38.50</td>\n",
       "      <td>95</td>\n",
       "      <td>162.10</td>\n",
       "      <td>0</td>\n",
       "      <td>1</td>\n",
       "      <td>15</td>\n",
       "      <td>7</td>\n",
       "    </tr>\n",
       "    <tr>\n",
       "      <th>47</th>\n",
       "      <td>48</td>\n",
       "      <td>Chetan Bist</td>\n",
       "      <td>NCA</td>\n",
       "      <td>153</td>\n",
       "      <td>4</td>\n",
       "      <td>4</td>\n",
       "      <td>2</td>\n",
       "      <td>60</td>\n",
       "      <td>76.50</td>\n",
       "      <td>120</td>\n",
       "      <td>127.50</td>\n",
       "      <td>0</td>\n",
       "      <td>2</td>\n",
       "      <td>13</td>\n",
       "      <td>6</td>\n",
       "    </tr>\n",
       "    <tr>\n",
       "      <th>48</th>\n",
       "      <td>49</td>\n",
       "      <td>C K Bishnoi</td>\n",
       "      <td>HCA</td>\n",
       "      <td>153</td>\n",
       "      <td>6</td>\n",
       "      <td>6</td>\n",
       "      <td>1</td>\n",
       "      <td>45</td>\n",
       "      <td>30.60</td>\n",
       "      <td>119</td>\n",
       "      <td>128.57</td>\n",
       "      <td>0</td>\n",
       "      <td>0</td>\n",
       "      <td>17</td>\n",
       "      <td>5</td>\n",
       "    </tr>\n",
       "    <tr>\n",
       "      <th>49</th>\n",
       "      <td>50</td>\n",
       "      <td>Lalit Yadav</td>\n",
       "      <td>DDCA</td>\n",
       "      <td>152</td>\n",
       "      <td>5</td>\n",
       "      <td>5</td>\n",
       "      <td>4</td>\n",
       "      <td>52*</td>\n",
       "      <td>152.00</td>\n",
       "      <td>77</td>\n",
       "      <td>197.40</td>\n",
       "      <td>0</td>\n",
       "      <td>1</td>\n",
       "      <td>17</td>\n",
       "      <td>7</td>\n",
       "    </tr>\n",
       "    <tr>\n",
       "      <th>50</th>\n",
       "      <td>51</td>\n",
       "      <td>D Negi</td>\n",
       "      <td>CAU</td>\n",
       "      <td>152</td>\n",
       "      <td>5</td>\n",
       "      <td>5</td>\n",
       "      <td>1</td>\n",
       "      <td>77*</td>\n",
       "      <td>38.00</td>\n",
       "      <td>126</td>\n",
       "      <td>120.63</td>\n",
       "      <td>0</td>\n",
       "      <td>1</td>\n",
       "      <td>16</td>\n",
       "      <td>3</td>\n",
       "    </tr>\n",
       "    <tr>\n",
       "      <th>51</th>\n",
       "      <td>52</td>\n",
       "      <td>Varun Sood</td>\n",
       "      <td>SICA</td>\n",
       "      <td>150</td>\n",
       "      <td>5</td>\n",
       "      <td>5</td>\n",
       "      <td>3</td>\n",
       "      <td>60*</td>\n",
       "      <td>75.00</td>\n",
       "      <td>146</td>\n",
       "      <td>102.73</td>\n",
       "      <td>0</td>\n",
       "      <td>1</td>\n",
       "      <td>8</td>\n",
       "      <td>6</td>\n",
       "    </tr>\n",
       "    <tr>\n",
       "      <th>52</th>\n",
       "      <td>53</td>\n",
       "      <td>Subhransu Senapati</td>\n",
       "      <td>OCA</td>\n",
       "      <td>146</td>\n",
       "      <td>5</td>\n",
       "      <td>5</td>\n",
       "      <td>1</td>\n",
       "      <td>64</td>\n",
       "      <td>36.50</td>\n",
       "      <td>118</td>\n",
       "      <td>123.72</td>\n",
       "      <td>0</td>\n",
       "      <td>1</td>\n",
       "      <td>12</td>\n",
       "      <td>3</td>\n",
       "    </tr>\n",
       "    <tr>\n",
       "      <th>53</th>\n",
       "      <td>54</td>\n",
       "      <td>Ripal Patel</td>\n",
       "      <td>GCA</td>\n",
       "      <td>145</td>\n",
       "      <td>5</td>\n",
       "      <td>5</td>\n",
       "      <td>1</td>\n",
       "      <td>41*</td>\n",
       "      <td>36.25</td>\n",
       "      <td>80</td>\n",
       "      <td>181.25</td>\n",
       "      <td>0</td>\n",
       "      <td>0</td>\n",
       "      <td>12</td>\n",
       "      <td>10</td>\n",
       "    </tr>\n",
       "    <tr>\n",
       "      <th>54</th>\n",
       "      <td>55</td>\n",
       "      <td>Ishan</td>\n",
       "      <td>JSCA</td>\n",
       "      <td>142</td>\n",
       "      <td>5</td>\n",
       "      <td>5</td>\n",
       "      <td>0</td>\n",
       "      <td>60</td>\n",
       "      <td>28.40</td>\n",
       "      <td>113</td>\n",
       "      <td>125.66</td>\n",
       "      <td>0</td>\n",
       "      <td>1</td>\n",
       "      <td>17</td>\n",
       "      <td>5</td>\n",
       "    </tr>\n",
       "    <tr>\n",
       "      <th>55</th>\n",
       "      <td>56</td>\n",
       "      <td>Rathour</td>\n",
       "      <td>BICA</td>\n",
       "      <td>142</td>\n",
       "      <td>6</td>\n",
       "      <td>6</td>\n",
       "      <td>1</td>\n",
       "      <td>60*</td>\n",
       "      <td>28.40</td>\n",
       "      <td>135</td>\n",
       "      <td>105.18</td>\n",
       "      <td>0</td>\n",
       "      <td>1</td>\n",
       "      <td>12</td>\n",
       "      <td>3</td>\n",
       "    </tr>\n",
       "    <tr>\n",
       "      <th>56</th>\n",
       "      <td>57</td>\n",
       "      <td>Ashwin Hebbar</td>\n",
       "      <td>ACA</td>\n",
       "      <td>142</td>\n",
       "      <td>5</td>\n",
       "      <td>5</td>\n",
       "      <td>0</td>\n",
       "      <td>48</td>\n",
       "      <td>28.40</td>\n",
       "      <td>138</td>\n",
       "      <td>102.89</td>\n",
       "      <td>0</td>\n",
       "      <td>0</td>\n",
       "      <td>16</td>\n",
       "      <td>3</td>\n",
       "    </tr>\n",
       "    <tr>\n",
       "      <th>57</th>\n",
       "      <td>58</td>\n",
       "      <td>R Jonathan</td>\n",
       "      <td>NCA</td>\n",
       "      <td>141</td>\n",
       "      <td>4</td>\n",
       "      <td>4</td>\n",
       "      <td>0</td>\n",
       "      <td>56</td>\n",
       "      <td>35.25</td>\n",
       "      <td>101</td>\n",
       "      <td>139.60</td>\n",
       "      <td>0</td>\n",
       "      <td>2</td>\n",
       "      <td>12</td>\n",
       "      <td>6</td>\n",
       "    </tr>\n",
       "    <tr>\n",
       "      <th>58</th>\n",
       "      <td>59</td>\n",
       "      <td>Abdul Samad</td>\n",
       "      <td>JKCA</td>\n",
       "      <td>140</td>\n",
       "      <td>5</td>\n",
       "      <td>4</td>\n",
       "      <td>1</td>\n",
       "      <td>54*</td>\n",
       "      <td>46.67</td>\n",
       "      <td>94</td>\n",
       "      <td>148.93</td>\n",
       "      <td>0</td>\n",
       "      <td>1</td>\n",
       "      <td>8</td>\n",
       "      <td>10</td>\n",
       "    </tr>\n",
       "    <tr>\n",
       "      <th>59</th>\n",
       "      <td>60</td>\n",
       "      <td>R R Dhawan</td>\n",
       "      <td>HPCA</td>\n",
       "      <td>140</td>\n",
       "      <td>6</td>\n",
       "      <td>5</td>\n",
       "      <td>2</td>\n",
       "      <td>61*</td>\n",
       "      <td>46.67</td>\n",
       "      <td>111</td>\n",
       "      <td>126.12</td>\n",
       "      <td>0</td>\n",
       "      <td>1</td>\n",
       "      <td>13</td>\n",
       "      <td>3</td>\n",
       "    </tr>\n",
       "  </tbody>\n",
       "</table>\n",
       "</div>"
      ],
      "text/plain": [
       "    Pos                Player   Team  Runs  Mat  Inns  NO    HS     Avg   BF  \\\n",
       "0     1          N Jagadeesan   TNCA   364    8     8   3   78*   72.80  258   \n",
       "1     2         Kedar Devdhar    BCA   349    8     8   3   99*   69.80  307   \n",
       "2     3     Prabhsimran Singh    PCA   341    7     7   3   89*   85.25  240   \n",
       "3     4             A A Barot    SCA   283    5     5   0   122   56.60  153   \n",
       "4     5        Vishnu Solanki    BCA   267    8     8   3   71*   53.40  208   \n",
       "5     6           Riyan Parag   ASCA   261    5     5   2   77*   87.00  184   \n",
       "6     7           Virat Singh   JSCA   250    5     5   1  103*   62.50  166   \n",
       "7     8           S R Chauhan    HCA   249    6     6   1    59   49.80  199   \n",
       "8     9      C Hari Nishaanth   TNCA   246    8     8   2   92*   41.00  206   \n",
       "9    10   Rahul Singh Gahlaut   SSCB   244    5     5   2   76*   81.33  138   \n",
       "10   11       Sheldon Jackson    CAP   242    5     5   2  106*   80.67  156   \n",
       "11   12        Venkatesh Iyer   MPCA   227    5     5   2   88*   75.67  152   \n",
       "12   13         Rajat Patidar   MPCA   221    5     5   0    96   44.20  144   \n",
       "13   14      Devdutt Padikkal   KSCA   218    6     6   1   99*   43.60  162   \n",
       "14   15             Jay Bista    CAU   217    5     5   1    92   54.25  162   \n",
       "15   16  Mohammed Azharuddeen    KCA   214    5     5   1  137*   53.50  110   \n",
       "16   17           Vivek Singh    CAB   208    5     5   2  100*   69.33  132   \n",
       "17   18       Abhishek Sharma    PCA   206    7     7   1   107   34.33  161   \n",
       "18   19         Prerak Mankad    SCA   205    5     5   1   61*   51.25  113   \n",
       "19   20           Punit Bisht   MECA   204    5     4   2  146*  102.00   94   \n",
       "20   21              H J Rana    HCA   203    6     6   1   75*   40.60  153   \n",
       "21   22        Shivam Bhambri   UTCA   198    4     4   0    75   49.50  143   \n",
       "22   23           Ankit Lamba    RCA   198    6     6   0    51   33.00  189   \n",
       "23   24                Milind    TCA   195    5     5   2   64*   65.00  155   \n",
       "24   25            K M Jadhav   MHCA   193    5     5   1   84*   48.25  145   \n",
       "25   26            S S Mundhe    NCA   191    4     4   2   69*   95.50  135   \n",
       "26   27         Mandeep Singh    PCA   185    7     4   3   99*  185.00  130   \n",
       "27   28        Dinesh Karthik   TNCA   183    8     6   3   47*   61.00  116   \n",
       "28   29           Nitish Rana   DDCA   183    5     5   0    74   36.60  111   \n",
       "29   30        Mrunal Devdhar   RSPB   181    5     5   1   61*   45.25  158   \n",
       "30   31            M K Lomror    RCA   173    7     7   2   78*   34.60  108   \n",
       "31   32          Himmat Singh   DDCA   171    5     5   2    53   57.00  115   \n",
       "32   33          Karan Sharma   UPCA   168    5     5   1   68*   42.00  103   \n",
       "33   34               Mahrour   BICA   168    6     6   1   68*   33.60  158   \n",
       "34   35          Lakhan Singh   SSCB   167    5     5   0    66   33.40  131   \n",
       "35   36         Ashok Menaria    RCA   166    7     7   1    67   27.67  134   \n",
       "36   37     K B Arun Karthick   TNCA   163    8     6   2   89*   40.75  115   \n",
       "37   38            P S Chopra   HPCA   162    5     5   1   54*   40.50  144   \n",
       "38   39           Sachin Baby    KCA   161    5     5   2    68   53.67  107   \n",
       "39   40            Amit Verma  GOACA   161    5     5   1   72*   40.25  113   \n",
       "40   41           Shivam Dube    MCA   161    5     5   1    63   40.25  116   \n",
       "41   42                 Robin    KCA   161    5     5   0    91   32.20  115   \n",
       "42   43             Aniruddha   KSCA   160    6     6   1   64*   32.00  152   \n",
       "43   44          Parth Sahani   MPCA   159    5     5   2    74   53.00  110   \n",
       "44   45     Shreevats Goswami    CAB   158    5     5   1   69*   39.50  119   \n",
       "45   46            N S Shaikh   MHCA   157    5     5   1   78*   39.25  142   \n",
       "46   47           Manan Vohra   UTCA   154    4     4   0    85   38.50   95   \n",
       "47   48           Chetan Bist    NCA   153    4     4   2    60   76.50  120   \n",
       "48   49           C K Bishnoi    HCA   153    6     6   1    45   30.60  119   \n",
       "49   50           Lalit Yadav   DDCA   152    5     5   4   52*  152.00   77   \n",
       "50   51                D Negi    CAU   152    5     5   1   77*   38.00  126   \n",
       "51   52            Varun Sood   SICA   150    5     5   3   60*   75.00  146   \n",
       "52   53    Subhransu Senapati    OCA   146    5     5   1    64   36.50  118   \n",
       "53   54           Ripal Patel    GCA   145    5     5   1   41*   36.25   80   \n",
       "54   55                 Ishan   JSCA   142    5     5   0    60   28.40  113   \n",
       "55   56               Rathour   BICA   142    6     6   1   60*   28.40  135   \n",
       "56   57         Ashwin Hebbar    ACA   142    5     5   0    48   28.40  138   \n",
       "57   58            R Jonathan    NCA   141    4     4   0    56   35.25  101   \n",
       "58   59           Abdul Samad   JKCA   140    5     4   1   54*   46.67   94   \n",
       "59   60            R R Dhawan   HPCA   140    6     5   2   61*   46.67  111   \n",
       "\n",
       "        SR  100  50  4s  6s  \n",
       "0   141.08    0   4  31  17  \n",
       "1   113.68    0   2  35  11  \n",
       "2   142.08    0   3  24  22  \n",
       "3   184.96    1   1  32  12  \n",
       "4   128.36    0   2  21  12  \n",
       "5   141.84    0   3  13  17  \n",
       "6   150.60    1   1  29   6  \n",
       "7   125.12    0   1  30   3  \n",
       "8   119.41    0   1  27   6  \n",
       "9   176.81    0   3  22  12  \n",
       "10  155.12    1   1  20  13  \n",
       "11  149.34    0   2  29   5  \n",
       "12  153.47    0   3  21   8  \n",
       "13  134.56    0   1  23   9  \n",
       "14  133.95    0   2  24   6  \n",
       "15  194.54    1   0  17  15  \n",
       "16  157.57    1   1  29   6  \n",
       "17  127.95    1   1  13  14  \n",
       "18  181.41    0   3  21  10  \n",
       "19  217.02    1   0  15  18  \n",
       "20  132.67    0   2  25   5  \n",
       "21  138.46    0   3  18   7  \n",
       "22  104.76    0   1  17   4  \n",
       "23  125.80    0   2  11   8  \n",
       "24  133.10    0   2  13  11  \n",
       "25  141.48    0   2  19   6  \n",
       "26  142.30    0   1  18   8  \n",
       "27  157.75    0   0  18   6  \n",
       "28  164.86    0   2  23   8  \n",
       "29  114.55    0   3  21   3  \n",
       "30  160.18    0   2  11  10  \n",
       "31  148.69    0   2  12  11  \n",
       "32  163.10    0   2  14  10  \n",
       "33  106.32    0   2  15   5  \n",
       "34  127.48    0   1  21   3  \n",
       "35  123.88    0   2  16   5  \n",
       "36  141.73    0   1  17   5  \n",
       "37  112.50    0   1  17   5  \n",
       "38  150.46    0   2   7  11  \n",
       "39  142.47    0   1   9   9  \n",
       "40  138.79    0   1  10  10  \n",
       "41  140.00    0   1  13   8  \n",
       "42  105.26    0   1   8   5  \n",
       "43  144.54    0   2   8   9  \n",
       "44  132.77    0   1  24   1  \n",
       "45  110.56    0   1  14   3  \n",
       "46  162.10    0   1  15   7  \n",
       "47  127.50    0   2  13   6  \n",
       "48  128.57    0   0  17   5  \n",
       "49  197.40    0   1  17   7  \n",
       "50  120.63    0   1  16   3  \n",
       "51  102.73    0   1   8   6  \n",
       "52  123.72    0   1  12   3  \n",
       "53  181.25    0   0  12  10  \n",
       "54  125.66    0   1  17   5  \n",
       "55  105.18    0   1  12   3  \n",
       "56  102.89    0   0  16   3  \n",
       "57  139.60    0   2  12   6  \n",
       "58  148.93    0   1   8  10  \n",
       "59  126.12    0   1  13   3  "
      ]
     },
     "execution_count": 70,
     "metadata": {},
     "output_type": "execute_result"
    }
   ],
   "source": [
    "top_ten"
   ]
  },
  {
   "cell_type": "code",
   "execution_count": 41,
   "id": "a4724772",
   "metadata": {
    "collapsed": true
   },
   "outputs": [
    {
     "data": {
      "application/vnd.plotly.v1+json": {
       "config": {
        "plotlyServerURL": "https://plot.ly"
       },
       "data": [
        {
         "hovertemplate": "Player=N Jagadeesan<br>Runs=%{x}<br>4s=%{y}<br>SR=%{z}<extra></extra>",
         "legendgroup": "N Jagadeesan",
         "marker": {
          "color": "#636efa",
          "symbol": "circle"
         },
         "mode": "markers",
         "name": "N Jagadeesan",
         "scene": "scene",
         "showlegend": true,
         "type": "scatter3d",
         "x": [
          364
         ],
         "y": [
          31
         ],
         "z": [
          141.08
         ]
        },
        {
         "hovertemplate": "Player=Kedar Devdhar<br>Runs=%{x}<br>4s=%{y}<br>SR=%{z}<extra></extra>",
         "legendgroup": "Kedar Devdhar",
         "marker": {
          "color": "#EF553B",
          "symbol": "circle"
         },
         "mode": "markers",
         "name": "Kedar Devdhar",
         "scene": "scene",
         "showlegend": true,
         "type": "scatter3d",
         "x": [
          349
         ],
         "y": [
          35
         ],
         "z": [
          113.68
         ]
        },
        {
         "hovertemplate": "Player=Prabhsimran Singh<br>Runs=%{x}<br>4s=%{y}<br>SR=%{z}<extra></extra>",
         "legendgroup": "Prabhsimran Singh",
         "marker": {
          "color": "#00cc96",
          "symbol": "circle"
         },
         "mode": "markers",
         "name": "Prabhsimran Singh",
         "scene": "scene",
         "showlegend": true,
         "type": "scatter3d",
         "x": [
          341
         ],
         "y": [
          24
         ],
         "z": [
          142.08
         ]
        },
        {
         "hovertemplate": "Player=A A Barot<br>Runs=%{x}<br>4s=%{y}<br>SR=%{z}<extra></extra>",
         "legendgroup": "A A Barot",
         "marker": {
          "color": "#ab63fa",
          "symbol": "circle"
         },
         "mode": "markers",
         "name": "A A Barot",
         "scene": "scene",
         "showlegend": true,
         "type": "scatter3d",
         "x": [
          283
         ],
         "y": [
          32
         ],
         "z": [
          184.96
         ]
        },
        {
         "hovertemplate": "Player=Vishnu Solanki<br>Runs=%{x}<br>4s=%{y}<br>SR=%{z}<extra></extra>",
         "legendgroup": "Vishnu Solanki",
         "marker": {
          "color": "#FFA15A",
          "symbol": "circle"
         },
         "mode": "markers",
         "name": "Vishnu Solanki",
         "scene": "scene",
         "showlegend": true,
         "type": "scatter3d",
         "x": [
          267
         ],
         "y": [
          21
         ],
         "z": [
          128.36
         ]
        },
        {
         "hovertemplate": "Player=Riyan Parag<br>Runs=%{x}<br>4s=%{y}<br>SR=%{z}<extra></extra>",
         "legendgroup": "Riyan Parag",
         "marker": {
          "color": "#19d3f3",
          "symbol": "circle"
         },
         "mode": "markers",
         "name": "Riyan Parag",
         "scene": "scene",
         "showlegend": true,
         "type": "scatter3d",
         "x": [
          261
         ],
         "y": [
          13
         ],
         "z": [
          141.84
         ]
        },
        {
         "hovertemplate": "Player=Virat Singh<br>Runs=%{x}<br>4s=%{y}<br>SR=%{z}<extra></extra>",
         "legendgroup": "Virat Singh",
         "marker": {
          "color": "#FF6692",
          "symbol": "circle"
         },
         "mode": "markers",
         "name": "Virat Singh",
         "scene": "scene",
         "showlegend": true,
         "type": "scatter3d",
         "x": [
          250
         ],
         "y": [
          29
         ],
         "z": [
          150.6
         ]
        },
        {
         "hovertemplate": "Player=S R Chauhan<br>Runs=%{x}<br>4s=%{y}<br>SR=%{z}<extra></extra>",
         "legendgroup": "S R Chauhan",
         "marker": {
          "color": "#B6E880",
          "symbol": "circle"
         },
         "mode": "markers",
         "name": "S R Chauhan",
         "scene": "scene",
         "showlegend": true,
         "type": "scatter3d",
         "x": [
          249
         ],
         "y": [
          30
         ],
         "z": [
          125.12
         ]
        },
        {
         "hovertemplate": "Player=C Hari Nishaanth<br>Runs=%{x}<br>4s=%{y}<br>SR=%{z}<extra></extra>",
         "legendgroup": "C Hari Nishaanth",
         "marker": {
          "color": "#FF97FF",
          "symbol": "circle"
         },
         "mode": "markers",
         "name": "C Hari Nishaanth",
         "scene": "scene",
         "showlegend": true,
         "type": "scatter3d",
         "x": [
          246
         ],
         "y": [
          27
         ],
         "z": [
          119.41
         ]
        },
        {
         "hovertemplate": "Player=Rahul Singh Gahlaut<br>Runs=%{x}<br>4s=%{y}<br>SR=%{z}<extra></extra>",
         "legendgroup": "Rahul Singh Gahlaut",
         "marker": {
          "color": "#FECB52",
          "symbol": "circle"
         },
         "mode": "markers",
         "name": "Rahul Singh Gahlaut",
         "scene": "scene",
         "showlegend": true,
         "type": "scatter3d",
         "x": [
          244
         ],
         "y": [
          22
         ],
         "z": [
          176.81
         ]
        }
       ],
       "layout": {
        "legend": {
         "title": {
          "text": "Player"
         },
         "tracegroupgap": 0
        },
        "margin": {
         "t": 60
        },
        "scene": {
         "domain": {
          "x": [
           0,
           1
          ],
          "y": [
           0,
           1
          ]
         },
         "xaxis": {
          "title": {
           "text": "Runs"
          }
         },
         "yaxis": {
          "title": {
           "text": "4s"
          }
         },
         "zaxis": {
          "title": {
           "text": "SR"
          }
         }
        },
        "template": {
         "data": {
          "bar": [
           {
            "error_x": {
             "color": "#2a3f5f"
            },
            "error_y": {
             "color": "#2a3f5f"
            },
            "marker": {
             "line": {
              "color": "#E5ECF6",
              "width": 0.5
             }
            },
            "type": "bar"
           }
          ],
          "barpolar": [
           {
            "marker": {
             "line": {
              "color": "#E5ECF6",
              "width": 0.5
             }
            },
            "type": "barpolar"
           }
          ],
          "carpet": [
           {
            "aaxis": {
             "endlinecolor": "#2a3f5f",
             "gridcolor": "white",
             "linecolor": "white",
             "minorgridcolor": "white",
             "startlinecolor": "#2a3f5f"
            },
            "baxis": {
             "endlinecolor": "#2a3f5f",
             "gridcolor": "white",
             "linecolor": "white",
             "minorgridcolor": "white",
             "startlinecolor": "#2a3f5f"
            },
            "type": "carpet"
           }
          ],
          "choropleth": [
           {
            "colorbar": {
             "outlinewidth": 0,
             "ticks": ""
            },
            "type": "choropleth"
           }
          ],
          "contour": [
           {
            "colorbar": {
             "outlinewidth": 0,
             "ticks": ""
            },
            "colorscale": [
             [
              0,
              "#0d0887"
             ],
             [
              0.1111111111111111,
              "#46039f"
             ],
             [
              0.2222222222222222,
              "#7201a8"
             ],
             [
              0.3333333333333333,
              "#9c179e"
             ],
             [
              0.4444444444444444,
              "#bd3786"
             ],
             [
              0.5555555555555556,
              "#d8576b"
             ],
             [
              0.6666666666666666,
              "#ed7953"
             ],
             [
              0.7777777777777778,
              "#fb9f3a"
             ],
             [
              0.8888888888888888,
              "#fdca26"
             ],
             [
              1,
              "#f0f921"
             ]
            ],
            "type": "contour"
           }
          ],
          "contourcarpet": [
           {
            "colorbar": {
             "outlinewidth": 0,
             "ticks": ""
            },
            "type": "contourcarpet"
           }
          ],
          "heatmap": [
           {
            "colorbar": {
             "outlinewidth": 0,
             "ticks": ""
            },
            "colorscale": [
             [
              0,
              "#0d0887"
             ],
             [
              0.1111111111111111,
              "#46039f"
             ],
             [
              0.2222222222222222,
              "#7201a8"
             ],
             [
              0.3333333333333333,
              "#9c179e"
             ],
             [
              0.4444444444444444,
              "#bd3786"
             ],
             [
              0.5555555555555556,
              "#d8576b"
             ],
             [
              0.6666666666666666,
              "#ed7953"
             ],
             [
              0.7777777777777778,
              "#fb9f3a"
             ],
             [
              0.8888888888888888,
              "#fdca26"
             ],
             [
              1,
              "#f0f921"
             ]
            ],
            "type": "heatmap"
           }
          ],
          "heatmapgl": [
           {
            "colorbar": {
             "outlinewidth": 0,
             "ticks": ""
            },
            "colorscale": [
             [
              0,
              "#0d0887"
             ],
             [
              0.1111111111111111,
              "#46039f"
             ],
             [
              0.2222222222222222,
              "#7201a8"
             ],
             [
              0.3333333333333333,
              "#9c179e"
             ],
             [
              0.4444444444444444,
              "#bd3786"
             ],
             [
              0.5555555555555556,
              "#d8576b"
             ],
             [
              0.6666666666666666,
              "#ed7953"
             ],
             [
              0.7777777777777778,
              "#fb9f3a"
             ],
             [
              0.8888888888888888,
              "#fdca26"
             ],
             [
              1,
              "#f0f921"
             ]
            ],
            "type": "heatmapgl"
           }
          ],
          "histogram": [
           {
            "marker": {
             "colorbar": {
              "outlinewidth": 0,
              "ticks": ""
             }
            },
            "type": "histogram"
           }
          ],
          "histogram2d": [
           {
            "colorbar": {
             "outlinewidth": 0,
             "ticks": ""
            },
            "colorscale": [
             [
              0,
              "#0d0887"
             ],
             [
              0.1111111111111111,
              "#46039f"
             ],
             [
              0.2222222222222222,
              "#7201a8"
             ],
             [
              0.3333333333333333,
              "#9c179e"
             ],
             [
              0.4444444444444444,
              "#bd3786"
             ],
             [
              0.5555555555555556,
              "#d8576b"
             ],
             [
              0.6666666666666666,
              "#ed7953"
             ],
             [
              0.7777777777777778,
              "#fb9f3a"
             ],
             [
              0.8888888888888888,
              "#fdca26"
             ],
             [
              1,
              "#f0f921"
             ]
            ],
            "type": "histogram2d"
           }
          ],
          "histogram2dcontour": [
           {
            "colorbar": {
             "outlinewidth": 0,
             "ticks": ""
            },
            "colorscale": [
             [
              0,
              "#0d0887"
             ],
             [
              0.1111111111111111,
              "#46039f"
             ],
             [
              0.2222222222222222,
              "#7201a8"
             ],
             [
              0.3333333333333333,
              "#9c179e"
             ],
             [
              0.4444444444444444,
              "#bd3786"
             ],
             [
              0.5555555555555556,
              "#d8576b"
             ],
             [
              0.6666666666666666,
              "#ed7953"
             ],
             [
              0.7777777777777778,
              "#fb9f3a"
             ],
             [
              0.8888888888888888,
              "#fdca26"
             ],
             [
              1,
              "#f0f921"
             ]
            ],
            "type": "histogram2dcontour"
           }
          ],
          "mesh3d": [
           {
            "colorbar": {
             "outlinewidth": 0,
             "ticks": ""
            },
            "type": "mesh3d"
           }
          ],
          "parcoords": [
           {
            "line": {
             "colorbar": {
              "outlinewidth": 0,
              "ticks": ""
             }
            },
            "type": "parcoords"
           }
          ],
          "pie": [
           {
            "automargin": true,
            "type": "pie"
           }
          ],
          "scatter": [
           {
            "marker": {
             "colorbar": {
              "outlinewidth": 0,
              "ticks": ""
             }
            },
            "type": "scatter"
           }
          ],
          "scatter3d": [
           {
            "line": {
             "colorbar": {
              "outlinewidth": 0,
              "ticks": ""
             }
            },
            "marker": {
             "colorbar": {
              "outlinewidth": 0,
              "ticks": ""
             }
            },
            "type": "scatter3d"
           }
          ],
          "scattercarpet": [
           {
            "marker": {
             "colorbar": {
              "outlinewidth": 0,
              "ticks": ""
             }
            },
            "type": "scattercarpet"
           }
          ],
          "scattergeo": [
           {
            "marker": {
             "colorbar": {
              "outlinewidth": 0,
              "ticks": ""
             }
            },
            "type": "scattergeo"
           }
          ],
          "scattergl": [
           {
            "marker": {
             "colorbar": {
              "outlinewidth": 0,
              "ticks": ""
             }
            },
            "type": "scattergl"
           }
          ],
          "scattermapbox": [
           {
            "marker": {
             "colorbar": {
              "outlinewidth": 0,
              "ticks": ""
             }
            },
            "type": "scattermapbox"
           }
          ],
          "scatterpolar": [
           {
            "marker": {
             "colorbar": {
              "outlinewidth": 0,
              "ticks": ""
             }
            },
            "type": "scatterpolar"
           }
          ],
          "scatterpolargl": [
           {
            "marker": {
             "colorbar": {
              "outlinewidth": 0,
              "ticks": ""
             }
            },
            "type": "scatterpolargl"
           }
          ],
          "scatterternary": [
           {
            "marker": {
             "colorbar": {
              "outlinewidth": 0,
              "ticks": ""
             }
            },
            "type": "scatterternary"
           }
          ],
          "surface": [
           {
            "colorbar": {
             "outlinewidth": 0,
             "ticks": ""
            },
            "colorscale": [
             [
              0,
              "#0d0887"
             ],
             [
              0.1111111111111111,
              "#46039f"
             ],
             [
              0.2222222222222222,
              "#7201a8"
             ],
             [
              0.3333333333333333,
              "#9c179e"
             ],
             [
              0.4444444444444444,
              "#bd3786"
             ],
             [
              0.5555555555555556,
              "#d8576b"
             ],
             [
              0.6666666666666666,
              "#ed7953"
             ],
             [
              0.7777777777777778,
              "#fb9f3a"
             ],
             [
              0.8888888888888888,
              "#fdca26"
             ],
             [
              1,
              "#f0f921"
             ]
            ],
            "type": "surface"
           }
          ],
          "table": [
           {
            "cells": {
             "fill": {
              "color": "#EBF0F8"
             },
             "line": {
              "color": "white"
             }
            },
            "header": {
             "fill": {
              "color": "#C8D4E3"
             },
             "line": {
              "color": "white"
             }
            },
            "type": "table"
           }
          ]
         },
         "layout": {
          "annotationdefaults": {
           "arrowcolor": "#2a3f5f",
           "arrowhead": 0,
           "arrowwidth": 1
          },
          "autotypenumbers": "strict",
          "coloraxis": {
           "colorbar": {
            "outlinewidth": 0,
            "ticks": ""
           }
          },
          "colorscale": {
           "diverging": [
            [
             0,
             "#8e0152"
            ],
            [
             0.1,
             "#c51b7d"
            ],
            [
             0.2,
             "#de77ae"
            ],
            [
             0.3,
             "#f1b6da"
            ],
            [
             0.4,
             "#fde0ef"
            ],
            [
             0.5,
             "#f7f7f7"
            ],
            [
             0.6,
             "#e6f5d0"
            ],
            [
             0.7,
             "#b8e186"
            ],
            [
             0.8,
             "#7fbc41"
            ],
            [
             0.9,
             "#4d9221"
            ],
            [
             1,
             "#276419"
            ]
           ],
           "sequential": [
            [
             0,
             "#0d0887"
            ],
            [
             0.1111111111111111,
             "#46039f"
            ],
            [
             0.2222222222222222,
             "#7201a8"
            ],
            [
             0.3333333333333333,
             "#9c179e"
            ],
            [
             0.4444444444444444,
             "#bd3786"
            ],
            [
             0.5555555555555556,
             "#d8576b"
            ],
            [
             0.6666666666666666,
             "#ed7953"
            ],
            [
             0.7777777777777778,
             "#fb9f3a"
            ],
            [
             0.8888888888888888,
             "#fdca26"
            ],
            [
             1,
             "#f0f921"
            ]
           ],
           "sequentialminus": [
            [
             0,
             "#0d0887"
            ],
            [
             0.1111111111111111,
             "#46039f"
            ],
            [
             0.2222222222222222,
             "#7201a8"
            ],
            [
             0.3333333333333333,
             "#9c179e"
            ],
            [
             0.4444444444444444,
             "#bd3786"
            ],
            [
             0.5555555555555556,
             "#d8576b"
            ],
            [
             0.6666666666666666,
             "#ed7953"
            ],
            [
             0.7777777777777778,
             "#fb9f3a"
            ],
            [
             0.8888888888888888,
             "#fdca26"
            ],
            [
             1,
             "#f0f921"
            ]
           ]
          },
          "colorway": [
           "#636efa",
           "#EF553B",
           "#00cc96",
           "#ab63fa",
           "#FFA15A",
           "#19d3f3",
           "#FF6692",
           "#B6E880",
           "#FF97FF",
           "#FECB52"
          ],
          "font": {
           "color": "#2a3f5f"
          },
          "geo": {
           "bgcolor": "white",
           "lakecolor": "white",
           "landcolor": "#E5ECF6",
           "showlakes": true,
           "showland": true,
           "subunitcolor": "white"
          },
          "hoverlabel": {
           "align": "left"
          },
          "hovermode": "closest",
          "mapbox": {
           "style": "light"
          },
          "paper_bgcolor": "white",
          "plot_bgcolor": "#E5ECF6",
          "polar": {
           "angularaxis": {
            "gridcolor": "white",
            "linecolor": "white",
            "ticks": ""
           },
           "bgcolor": "#E5ECF6",
           "radialaxis": {
            "gridcolor": "white",
            "linecolor": "white",
            "ticks": ""
           }
          },
          "scene": {
           "xaxis": {
            "backgroundcolor": "#E5ECF6",
            "gridcolor": "white",
            "gridwidth": 2,
            "linecolor": "white",
            "showbackground": true,
            "ticks": "",
            "zerolinecolor": "white"
           },
           "yaxis": {
            "backgroundcolor": "#E5ECF6",
            "gridcolor": "white",
            "gridwidth": 2,
            "linecolor": "white",
            "showbackground": true,
            "ticks": "",
            "zerolinecolor": "white"
           },
           "zaxis": {
            "backgroundcolor": "#E5ECF6",
            "gridcolor": "white",
            "gridwidth": 2,
            "linecolor": "white",
            "showbackground": true,
            "ticks": "",
            "zerolinecolor": "white"
           }
          },
          "shapedefaults": {
           "line": {
            "color": "#2a3f5f"
           }
          },
          "ternary": {
           "aaxis": {
            "gridcolor": "white",
            "linecolor": "white",
            "ticks": ""
           },
           "baxis": {
            "gridcolor": "white",
            "linecolor": "white",
            "ticks": ""
           },
           "bgcolor": "#E5ECF6",
           "caxis": {
            "gridcolor": "white",
            "linecolor": "white",
            "ticks": ""
           }
          },
          "title": {
           "x": 0.05
          },
          "xaxis": {
           "automargin": true,
           "gridcolor": "white",
           "linecolor": "white",
           "ticks": "",
           "title": {
            "standoff": 15
           },
           "zerolinecolor": "white",
           "zerolinewidth": 2
          },
          "yaxis": {
           "automargin": true,
           "gridcolor": "white",
           "linecolor": "white",
           "ticks": "",
           "title": {
            "standoff": 15
           },
           "zerolinecolor": "white",
           "zerolinewidth": 2
          }
         }
        }
       }
      },
      "text/html": [
       "<div>                            <div id=\"bf3b70a9-54a5-4c5a-89fe-bd55a787834a\" class=\"plotly-graph-div\" style=\"height:525px; width:100%;\"></div>            <script type=\"text/javascript\">                require([\"plotly\"], function(Plotly) {                    window.PLOTLYENV=window.PLOTLYENV || {};                                    if (document.getElementById(\"bf3b70a9-54a5-4c5a-89fe-bd55a787834a\")) {                    Plotly.newPlot(                        \"bf3b70a9-54a5-4c5a-89fe-bd55a787834a\",                        [{\"hovertemplate\": \"Player=N Jagadeesan<br>Runs=%{x}<br>4s=%{y}<br>SR=%{z}<extra></extra>\", \"legendgroup\": \"N Jagadeesan\", \"marker\": {\"color\": \"#636efa\", \"symbol\": \"circle\"}, \"mode\": \"markers\", \"name\": \"N Jagadeesan\", \"scene\": \"scene\", \"showlegend\": true, \"type\": \"scatter3d\", \"x\": [364], \"y\": [31], \"z\": [141.08]}, {\"hovertemplate\": \"Player=Kedar Devdhar<br>Runs=%{x}<br>4s=%{y}<br>SR=%{z}<extra></extra>\", \"legendgroup\": \"Kedar Devdhar\", \"marker\": {\"color\": \"#EF553B\", \"symbol\": \"circle\"}, \"mode\": \"markers\", \"name\": \"Kedar Devdhar\", \"scene\": \"scene\", \"showlegend\": true, \"type\": \"scatter3d\", \"x\": [349], \"y\": [35], \"z\": [113.68]}, {\"hovertemplate\": \"Player=Prabhsimran Singh<br>Runs=%{x}<br>4s=%{y}<br>SR=%{z}<extra></extra>\", \"legendgroup\": \"Prabhsimran Singh\", \"marker\": {\"color\": \"#00cc96\", \"symbol\": \"circle\"}, \"mode\": \"markers\", \"name\": \"Prabhsimran Singh\", \"scene\": \"scene\", \"showlegend\": true, \"type\": \"scatter3d\", \"x\": [341], \"y\": [24], \"z\": [142.08]}, {\"hovertemplate\": \"Player=A A Barot<br>Runs=%{x}<br>4s=%{y}<br>SR=%{z}<extra></extra>\", \"legendgroup\": \"A A Barot\", \"marker\": {\"color\": \"#ab63fa\", \"symbol\": \"circle\"}, \"mode\": \"markers\", \"name\": \"A A Barot\", \"scene\": \"scene\", \"showlegend\": true, \"type\": \"scatter3d\", \"x\": [283], \"y\": [32], \"z\": [184.96]}, {\"hovertemplate\": \"Player=Vishnu Solanki<br>Runs=%{x}<br>4s=%{y}<br>SR=%{z}<extra></extra>\", \"legendgroup\": \"Vishnu Solanki\", \"marker\": {\"color\": \"#FFA15A\", \"symbol\": \"circle\"}, \"mode\": \"markers\", \"name\": \"Vishnu Solanki\", \"scene\": \"scene\", \"showlegend\": true, \"type\": \"scatter3d\", \"x\": [267], \"y\": [21], \"z\": [128.36]}, {\"hovertemplate\": \"Player=Riyan Parag<br>Runs=%{x}<br>4s=%{y}<br>SR=%{z}<extra></extra>\", \"legendgroup\": \"Riyan Parag\", \"marker\": {\"color\": \"#19d3f3\", \"symbol\": \"circle\"}, \"mode\": \"markers\", \"name\": \"Riyan Parag\", \"scene\": \"scene\", \"showlegend\": true, \"type\": \"scatter3d\", \"x\": [261], \"y\": [13], \"z\": [141.84]}, {\"hovertemplate\": \"Player=Virat Singh<br>Runs=%{x}<br>4s=%{y}<br>SR=%{z}<extra></extra>\", \"legendgroup\": \"Virat Singh\", \"marker\": {\"color\": \"#FF6692\", \"symbol\": \"circle\"}, \"mode\": \"markers\", \"name\": \"Virat Singh\", \"scene\": \"scene\", \"showlegend\": true, \"type\": \"scatter3d\", \"x\": [250], \"y\": [29], \"z\": [150.6]}, {\"hovertemplate\": \"Player=S R Chauhan<br>Runs=%{x}<br>4s=%{y}<br>SR=%{z}<extra></extra>\", \"legendgroup\": \"S R Chauhan\", \"marker\": {\"color\": \"#B6E880\", \"symbol\": \"circle\"}, \"mode\": \"markers\", \"name\": \"S R Chauhan\", \"scene\": \"scene\", \"showlegend\": true, \"type\": \"scatter3d\", \"x\": [249], \"y\": [30], \"z\": [125.12]}, {\"hovertemplate\": \"Player=C Hari Nishaanth<br>Runs=%{x}<br>4s=%{y}<br>SR=%{z}<extra></extra>\", \"legendgroup\": \"C Hari Nishaanth\", \"marker\": {\"color\": \"#FF97FF\", \"symbol\": \"circle\"}, \"mode\": \"markers\", \"name\": \"C Hari Nishaanth\", \"scene\": \"scene\", \"showlegend\": true, \"type\": \"scatter3d\", \"x\": [246], \"y\": [27], \"z\": [119.41]}, {\"hovertemplate\": \"Player=Rahul Singh Gahlaut<br>Runs=%{x}<br>4s=%{y}<br>SR=%{z}<extra></extra>\", \"legendgroup\": \"Rahul Singh Gahlaut\", \"marker\": {\"color\": \"#FECB52\", \"symbol\": \"circle\"}, \"mode\": \"markers\", \"name\": \"Rahul Singh Gahlaut\", \"scene\": \"scene\", \"showlegend\": true, \"type\": \"scatter3d\", \"x\": [244], \"y\": [22], \"z\": [176.81]}],                        {\"legend\": {\"title\": {\"text\": \"Player\"}, \"tracegroupgap\": 0}, \"margin\": {\"t\": 60}, \"scene\": {\"domain\": {\"x\": [0.0, 1.0], \"y\": [0.0, 1.0]}, \"xaxis\": {\"title\": {\"text\": \"Runs\"}}, \"yaxis\": {\"title\": {\"text\": \"4s\"}}, \"zaxis\": {\"title\": {\"text\": \"SR\"}}}, \"template\": {\"data\": {\"bar\": [{\"error_x\": {\"color\": \"#2a3f5f\"}, \"error_y\": {\"color\": \"#2a3f5f\"}, \"marker\": {\"line\": {\"color\": \"#E5ECF6\", \"width\": 0.5}}, \"type\": \"bar\"}], \"barpolar\": [{\"marker\": {\"line\": {\"color\": \"#E5ECF6\", \"width\": 0.5}}, \"type\": \"barpolar\"}], \"carpet\": [{\"aaxis\": {\"endlinecolor\": \"#2a3f5f\", \"gridcolor\": \"white\", \"linecolor\": \"white\", \"minorgridcolor\": \"white\", \"startlinecolor\": \"#2a3f5f\"}, \"baxis\": {\"endlinecolor\": \"#2a3f5f\", \"gridcolor\": \"white\", \"linecolor\": \"white\", \"minorgridcolor\": \"white\", \"startlinecolor\": \"#2a3f5f\"}, \"type\": \"carpet\"}], \"choropleth\": [{\"colorbar\": {\"outlinewidth\": 0, \"ticks\": \"\"}, \"type\": \"choropleth\"}], \"contour\": [{\"colorbar\": {\"outlinewidth\": 0, \"ticks\": \"\"}, \"colorscale\": [[0.0, \"#0d0887\"], [0.1111111111111111, \"#46039f\"], [0.2222222222222222, \"#7201a8\"], [0.3333333333333333, \"#9c179e\"], [0.4444444444444444, \"#bd3786\"], [0.5555555555555556, \"#d8576b\"], [0.6666666666666666, \"#ed7953\"], [0.7777777777777778, \"#fb9f3a\"], [0.8888888888888888, \"#fdca26\"], [1.0, \"#f0f921\"]], \"type\": \"contour\"}], \"contourcarpet\": [{\"colorbar\": {\"outlinewidth\": 0, \"ticks\": \"\"}, \"type\": \"contourcarpet\"}], \"heatmap\": [{\"colorbar\": {\"outlinewidth\": 0, \"ticks\": \"\"}, \"colorscale\": [[0.0, \"#0d0887\"], [0.1111111111111111, \"#46039f\"], [0.2222222222222222, \"#7201a8\"], [0.3333333333333333, \"#9c179e\"], [0.4444444444444444, \"#bd3786\"], [0.5555555555555556, \"#d8576b\"], [0.6666666666666666, \"#ed7953\"], [0.7777777777777778, \"#fb9f3a\"], [0.8888888888888888, \"#fdca26\"], [1.0, \"#f0f921\"]], \"type\": \"heatmap\"}], \"heatmapgl\": [{\"colorbar\": {\"outlinewidth\": 0, \"ticks\": \"\"}, \"colorscale\": [[0.0, \"#0d0887\"], [0.1111111111111111, \"#46039f\"], [0.2222222222222222, \"#7201a8\"], [0.3333333333333333, \"#9c179e\"], [0.4444444444444444, \"#bd3786\"], [0.5555555555555556, \"#d8576b\"], [0.6666666666666666, \"#ed7953\"], [0.7777777777777778, \"#fb9f3a\"], [0.8888888888888888, \"#fdca26\"], [1.0, \"#f0f921\"]], \"type\": \"heatmapgl\"}], \"histogram\": [{\"marker\": {\"colorbar\": {\"outlinewidth\": 0, \"ticks\": \"\"}}, \"type\": \"histogram\"}], \"histogram2d\": [{\"colorbar\": {\"outlinewidth\": 0, \"ticks\": \"\"}, \"colorscale\": [[0.0, \"#0d0887\"], [0.1111111111111111, \"#46039f\"], [0.2222222222222222, \"#7201a8\"], [0.3333333333333333, \"#9c179e\"], [0.4444444444444444, \"#bd3786\"], [0.5555555555555556, \"#d8576b\"], [0.6666666666666666, \"#ed7953\"], [0.7777777777777778, \"#fb9f3a\"], [0.8888888888888888, \"#fdca26\"], [1.0, \"#f0f921\"]], \"type\": \"histogram2d\"}], \"histogram2dcontour\": [{\"colorbar\": {\"outlinewidth\": 0, \"ticks\": \"\"}, \"colorscale\": [[0.0, \"#0d0887\"], [0.1111111111111111, \"#46039f\"], [0.2222222222222222, \"#7201a8\"], [0.3333333333333333, \"#9c179e\"], [0.4444444444444444, \"#bd3786\"], [0.5555555555555556, \"#d8576b\"], [0.6666666666666666, \"#ed7953\"], [0.7777777777777778, \"#fb9f3a\"], [0.8888888888888888, \"#fdca26\"], [1.0, \"#f0f921\"]], \"type\": \"histogram2dcontour\"}], \"mesh3d\": [{\"colorbar\": {\"outlinewidth\": 0, \"ticks\": \"\"}, \"type\": \"mesh3d\"}], \"parcoords\": [{\"line\": {\"colorbar\": {\"outlinewidth\": 0, \"ticks\": \"\"}}, \"type\": \"parcoords\"}], \"pie\": [{\"automargin\": true, \"type\": \"pie\"}], \"scatter\": [{\"marker\": {\"colorbar\": {\"outlinewidth\": 0, \"ticks\": \"\"}}, \"type\": \"scatter\"}], \"scatter3d\": [{\"line\": {\"colorbar\": {\"outlinewidth\": 0, \"ticks\": \"\"}}, \"marker\": {\"colorbar\": {\"outlinewidth\": 0, \"ticks\": \"\"}}, \"type\": \"scatter3d\"}], \"scattercarpet\": [{\"marker\": {\"colorbar\": {\"outlinewidth\": 0, \"ticks\": \"\"}}, \"type\": \"scattercarpet\"}], \"scattergeo\": [{\"marker\": {\"colorbar\": {\"outlinewidth\": 0, \"ticks\": \"\"}}, \"type\": \"scattergeo\"}], \"scattergl\": [{\"marker\": {\"colorbar\": {\"outlinewidth\": 0, \"ticks\": \"\"}}, \"type\": \"scattergl\"}], \"scattermapbox\": [{\"marker\": {\"colorbar\": {\"outlinewidth\": 0, \"ticks\": \"\"}}, \"type\": \"scattermapbox\"}], \"scatterpolar\": [{\"marker\": {\"colorbar\": {\"outlinewidth\": 0, \"ticks\": \"\"}}, \"type\": \"scatterpolar\"}], \"scatterpolargl\": [{\"marker\": {\"colorbar\": {\"outlinewidth\": 0, \"ticks\": \"\"}}, \"type\": \"scatterpolargl\"}], \"scatterternary\": [{\"marker\": {\"colorbar\": {\"outlinewidth\": 0, \"ticks\": \"\"}}, \"type\": \"scatterternary\"}], \"surface\": [{\"colorbar\": {\"outlinewidth\": 0, \"ticks\": \"\"}, \"colorscale\": [[0.0, \"#0d0887\"], [0.1111111111111111, \"#46039f\"], [0.2222222222222222, \"#7201a8\"], [0.3333333333333333, \"#9c179e\"], [0.4444444444444444, \"#bd3786\"], [0.5555555555555556, \"#d8576b\"], [0.6666666666666666, \"#ed7953\"], [0.7777777777777778, \"#fb9f3a\"], [0.8888888888888888, \"#fdca26\"], [1.0, \"#f0f921\"]], \"type\": \"surface\"}], \"table\": [{\"cells\": {\"fill\": {\"color\": \"#EBF0F8\"}, \"line\": {\"color\": \"white\"}}, \"header\": {\"fill\": {\"color\": \"#C8D4E3\"}, \"line\": {\"color\": \"white\"}}, \"type\": \"table\"}]}, \"layout\": {\"annotationdefaults\": {\"arrowcolor\": \"#2a3f5f\", \"arrowhead\": 0, \"arrowwidth\": 1}, \"autotypenumbers\": \"strict\", \"coloraxis\": {\"colorbar\": {\"outlinewidth\": 0, \"ticks\": \"\"}}, \"colorscale\": {\"diverging\": [[0, \"#8e0152\"], [0.1, \"#c51b7d\"], [0.2, \"#de77ae\"], [0.3, \"#f1b6da\"], [0.4, \"#fde0ef\"], [0.5, \"#f7f7f7\"], [0.6, \"#e6f5d0\"], [0.7, \"#b8e186\"], [0.8, \"#7fbc41\"], [0.9, \"#4d9221\"], [1, \"#276419\"]], \"sequential\": [[0.0, \"#0d0887\"], [0.1111111111111111, \"#46039f\"], [0.2222222222222222, \"#7201a8\"], [0.3333333333333333, \"#9c179e\"], [0.4444444444444444, \"#bd3786\"], [0.5555555555555556, \"#d8576b\"], [0.6666666666666666, \"#ed7953\"], [0.7777777777777778, \"#fb9f3a\"], [0.8888888888888888, \"#fdca26\"], [1.0, \"#f0f921\"]], \"sequentialminus\": [[0.0, \"#0d0887\"], [0.1111111111111111, \"#46039f\"], [0.2222222222222222, \"#7201a8\"], [0.3333333333333333, \"#9c179e\"], [0.4444444444444444, \"#bd3786\"], [0.5555555555555556, \"#d8576b\"], [0.6666666666666666, \"#ed7953\"], [0.7777777777777778, \"#fb9f3a\"], [0.8888888888888888, \"#fdca26\"], [1.0, \"#f0f921\"]]}, \"colorway\": [\"#636efa\", \"#EF553B\", \"#00cc96\", \"#ab63fa\", \"#FFA15A\", \"#19d3f3\", \"#FF6692\", \"#B6E880\", \"#FF97FF\", \"#FECB52\"], \"font\": {\"color\": \"#2a3f5f\"}, \"geo\": {\"bgcolor\": \"white\", \"lakecolor\": \"white\", \"landcolor\": \"#E5ECF6\", \"showlakes\": true, \"showland\": true, \"subunitcolor\": \"white\"}, \"hoverlabel\": {\"align\": \"left\"}, \"hovermode\": \"closest\", \"mapbox\": {\"style\": \"light\"}, \"paper_bgcolor\": \"white\", \"plot_bgcolor\": \"#E5ECF6\", \"polar\": {\"angularaxis\": {\"gridcolor\": \"white\", \"linecolor\": \"white\", \"ticks\": \"\"}, \"bgcolor\": \"#E5ECF6\", \"radialaxis\": {\"gridcolor\": \"white\", \"linecolor\": \"white\", \"ticks\": \"\"}}, \"scene\": {\"xaxis\": {\"backgroundcolor\": \"#E5ECF6\", \"gridcolor\": \"white\", \"gridwidth\": 2, \"linecolor\": \"white\", \"showbackground\": true, \"ticks\": \"\", \"zerolinecolor\": \"white\"}, \"yaxis\": {\"backgroundcolor\": \"#E5ECF6\", \"gridcolor\": \"white\", \"gridwidth\": 2, \"linecolor\": \"white\", \"showbackground\": true, \"ticks\": \"\", \"zerolinecolor\": \"white\"}, \"zaxis\": {\"backgroundcolor\": \"#E5ECF6\", \"gridcolor\": \"white\", \"gridwidth\": 2, \"linecolor\": \"white\", \"showbackground\": true, \"ticks\": \"\", \"zerolinecolor\": \"white\"}}, \"shapedefaults\": {\"line\": {\"color\": \"#2a3f5f\"}}, \"ternary\": {\"aaxis\": {\"gridcolor\": \"white\", \"linecolor\": \"white\", \"ticks\": \"\"}, \"baxis\": {\"gridcolor\": \"white\", \"linecolor\": \"white\", \"ticks\": \"\"}, \"bgcolor\": \"#E5ECF6\", \"caxis\": {\"gridcolor\": \"white\", \"linecolor\": \"white\", \"ticks\": \"\"}}, \"title\": {\"x\": 0.05}, \"xaxis\": {\"automargin\": true, \"gridcolor\": \"white\", \"linecolor\": \"white\", \"ticks\": \"\", \"title\": {\"standoff\": 15}, \"zerolinecolor\": \"white\", \"zerolinewidth\": 2}, \"yaxis\": {\"automargin\": true, \"gridcolor\": \"white\", \"linecolor\": \"white\", \"ticks\": \"\", \"title\": {\"standoff\": 15}, \"zerolinecolor\": \"white\", \"zerolinewidth\": 2}}}},                        {\"responsive\": true}                    ).then(function(){\n",
       "                            \n",
       "var gd = document.getElementById('bf3b70a9-54a5-4c5a-89fe-bd55a787834a');\n",
       "var x = new MutationObserver(function (mutations, observer) {{\n",
       "        var display = window.getComputedStyle(gd).display;\n",
       "        if (!display || display === 'none') {{\n",
       "            console.log([gd, 'removed!']);\n",
       "            Plotly.purge(gd);\n",
       "            observer.disconnect();\n",
       "        }}\n",
       "}});\n",
       "\n",
       "// Listen for the removal of the full notebook cells\n",
       "var notebookContainer = gd.closest('#notebook-container');\n",
       "if (notebookContainer) {{\n",
       "    x.observe(notebookContainer, {childList: true});\n",
       "}}\n",
       "\n",
       "// Listen for the clearing of the current output cell\n",
       "var outputEl = gd.closest('.output');\n",
       "if (outputEl) {{\n",
       "    x.observe(outputEl, {childList: true});\n",
       "}}\n",
       "\n",
       "                        })                };                });            </script>        </div>"
      ]
     },
     "metadata": {},
     "output_type": "display_data"
    }
   ],
   "source": [
    "fig = px.scatter_3d(top_ten, x='Runs', y='4s', z='SR', color ='Player')\n",
    "fig.show()"
   ]
  },
  {
   "cell_type": "markdown",
   "id": "d4a32440",
   "metadata": {},
   "source": [
    "Wicket keeper batsmen : Jagadeesan, Sanju, Sheldin, Prabh, Punit Bisth, PS Chopra, Shreevats Goswami\n",
    "openers : , Kedar, Barot, Hari , Azzu, Devidut, Venkatesh, Jai Bistha, Vivek Singh, abhishek , Ankit lamba\n",
    "Middle order : Vishnu, Virat, SR Chu=auhan, Rahul, Rajat, Prerak Mankad, HC Rana, Shivam Bmabri, Milind, SS Munde, Nitish\n",
    "Lower Middle Order: Riyan, Sharukh, Dinesh Kartik, Lalit yadav, Karan Sharma, Ashok Mineria, K B Arun Karthick, Shivam Dube, Aniruddha\n"
   ]
  },
  {
   "cell_type": "code",
   "execution_count": 71,
   "id": "54cde7bd",
   "metadata": {},
   "outputs": [],
   "source": [
    "openers_list = ['Kedar Devdhar','A A Barot', 'C Hari Nishaanth','Mohammed Azharuddeen','Devdutt Padikkal','Venkatesh Iyer','Jay Bista',\n",
    "               'Vivek Singh','Abhishek Sharma','Ankit Lamba']\n",
    "middleorder_list = ['Vishnu Solanki','Virat Singh','S R Chauhan','Rahul Singh Gahlaut','Rajat Patidar','Prerak Mankad',\n",
    "                   'H J Rana','Shivam Bhambri','Milind','S S Mundhe','Nitish Rana']\n",
    "lowermiddle_list = ['Riyan Parag','Dinesh Karthik','Lalit Yadav','Karan Sharma','Ashok Menaria','K B Arun Karthick','Shivam Dube','Aniruddha',\n",
    "                   'Abdul Samad']\n",
    "wicketkeeper_list = ['N Jagadeesan','Sanju Samson','Sheldon Jackson','Prabhsimran Singh','Punit Bisht','P S Chopra','Shreevats Goswami']"
   ]
  },
  {
   "cell_type": "code",
   "execution_count": 72,
   "id": "3aa327fe",
   "metadata": {},
   "outputs": [],
   "source": [
    "openers = df[df.Player.isin(openers_list)]\n",
    "middleorder = df[df.Player.isin(middleorder_list)]\n",
    "lowermiddleorder = df[df.Player.isin(lowermiddle_list)]\n",
    "wicketkeeper = df[df.Player.isin(wicketkeeper_list)]"
   ]
  },
  {
   "cell_type": "raw",
   "id": "342b2ee9",
   "metadata": {},
   "source": [
    "openers['outrate'] = (openers.Mat - openers.NO) / openers.BF\n",
    "openers['MRA'] = (openers['100'] + openers['50']) / openers.Inns\n",
    "openers['BRPI'] = (openers['4s'] *4 + openers['6s'] *6) / openers.Inns\n",
    "\n",
    "middleorder['outrate'] = (middleorder.Mat - middleorder.NO) / middleorder.BF\n",
    "middleorder['MRA'] = (middleorder['100'] + middleorder['50']) / middleorder.Inns\n",
    "middleorder['BRPI'] = (middleorder['4s'] *4 + middleorder['6s'] *6) / middleorder.Inns\n",
    "\n",
    "lowermiddleorder['outrate'] = (lowermiddleorder.Mat - lowermiddleorder.NO) / lowermiddleorder.BF\n",
    "lowermiddleorder['MRA'] = (lowermiddleorder['100'] + lowermiddleorder['50']) / lowermiddleorder.Inns\n",
    "lowermiddleorder['BRPI'] = (lowermiddleorder['4s'] *4 + lowermiddleorder['6s'] *6) / lowermiddleorder.Inns\n",
    "\n",
    "wicketkeeper['outrate'] = (wicketkeeper.Mat - wicketkeeper.NO) / wicketkeeper.BF\n",
    "wicketkeeper['MRA'] = (wicketkeeper['100'] + wicketkeeper['50']) / wicketkeeper.Inns\n",
    "wicketkeeper['BRPI'] = (wicketkeeper['4s'] *4 + wicketkeeper['6s'] *6) / wicketkeeper.Inns"
   ]
  },
  {
   "cell_type": "code",
   "execution_count": 98,
   "id": "c7c98546",
   "metadata": {},
   "outputs": [
    {
     "data": {
      "text/html": [
       "<div>\n",
       "<style scoped>\n",
       "    .dataframe tbody tr th:only-of-type {\n",
       "        vertical-align: middle;\n",
       "    }\n",
       "\n",
       "    .dataframe tbody tr th {\n",
       "        vertical-align: top;\n",
       "    }\n",
       "\n",
       "    .dataframe thead th {\n",
       "        text-align: right;\n",
       "    }\n",
       "</style>\n",
       "<table border=\"1\" class=\"dataframe\">\n",
       "  <thead>\n",
       "    <tr style=\"text-align: right;\">\n",
       "      <th></th>\n",
       "      <th>Pos</th>\n",
       "      <th>Player</th>\n",
       "      <th>Team</th>\n",
       "      <th>Runs</th>\n",
       "      <th>Mat</th>\n",
       "      <th>Inns</th>\n",
       "      <th>NO</th>\n",
       "      <th>HS</th>\n",
       "      <th>Avg</th>\n",
       "      <th>BF</th>\n",
       "      <th>SR</th>\n",
       "      <th>100</th>\n",
       "      <th>50</th>\n",
       "      <th>4s</th>\n",
       "      <th>6s</th>\n",
       "      <th>outrate</th>\n",
       "      <th>MRA</th>\n",
       "      <th>BRPI</th>\n",
       "    </tr>\n",
       "  </thead>\n",
       "  <tbody>\n",
       "    <tr>\n",
       "      <th>5</th>\n",
       "      <td>6</td>\n",
       "      <td>Riyan Parag</td>\n",
       "      <td>ASCA</td>\n",
       "      <td>261</td>\n",
       "      <td>5</td>\n",
       "      <td>5</td>\n",
       "      <td>2</td>\n",
       "      <td>77*</td>\n",
       "      <td>87.00</td>\n",
       "      <td>184</td>\n",
       "      <td>141.84</td>\n",
       "      <td>0</td>\n",
       "      <td>3</td>\n",
       "      <td>13</td>\n",
       "      <td>17</td>\n",
       "      <td>0.016304</td>\n",
       "      <td>0.600000</td>\n",
       "      <td>30.800000</td>\n",
       "    </tr>\n",
       "    <tr>\n",
       "      <th>27</th>\n",
       "      <td>28</td>\n",
       "      <td>Dinesh Karthik</td>\n",
       "      <td>TNCA</td>\n",
       "      <td>183</td>\n",
       "      <td>8</td>\n",
       "      <td>6</td>\n",
       "      <td>3</td>\n",
       "      <td>47*</td>\n",
       "      <td>61.00</td>\n",
       "      <td>116</td>\n",
       "      <td>157.75</td>\n",
       "      <td>0</td>\n",
       "      <td>0</td>\n",
       "      <td>18</td>\n",
       "      <td>6</td>\n",
       "      <td>0.043103</td>\n",
       "      <td>0.000000</td>\n",
       "      <td>18.000000</td>\n",
       "    </tr>\n",
       "    <tr>\n",
       "      <th>32</th>\n",
       "      <td>33</td>\n",
       "      <td>Karan Sharma</td>\n",
       "      <td>UPCA</td>\n",
       "      <td>168</td>\n",
       "      <td>5</td>\n",
       "      <td>5</td>\n",
       "      <td>1</td>\n",
       "      <td>68*</td>\n",
       "      <td>42.00</td>\n",
       "      <td>103</td>\n",
       "      <td>163.10</td>\n",
       "      <td>0</td>\n",
       "      <td>2</td>\n",
       "      <td>14</td>\n",
       "      <td>10</td>\n",
       "      <td>0.038835</td>\n",
       "      <td>0.400000</td>\n",
       "      <td>23.200000</td>\n",
       "    </tr>\n",
       "    <tr>\n",
       "      <th>35</th>\n",
       "      <td>36</td>\n",
       "      <td>Ashok Menaria</td>\n",
       "      <td>RCA</td>\n",
       "      <td>166</td>\n",
       "      <td>7</td>\n",
       "      <td>7</td>\n",
       "      <td>1</td>\n",
       "      <td>67</td>\n",
       "      <td>27.67</td>\n",
       "      <td>134</td>\n",
       "      <td>123.88</td>\n",
       "      <td>0</td>\n",
       "      <td>2</td>\n",
       "      <td>16</td>\n",
       "      <td>5</td>\n",
       "      <td>0.044776</td>\n",
       "      <td>0.285714</td>\n",
       "      <td>13.428571</td>\n",
       "    </tr>\n",
       "    <tr>\n",
       "      <th>36</th>\n",
       "      <td>37</td>\n",
       "      <td>K B Arun Karthick</td>\n",
       "      <td>TNCA</td>\n",
       "      <td>163</td>\n",
       "      <td>8</td>\n",
       "      <td>6</td>\n",
       "      <td>2</td>\n",
       "      <td>89*</td>\n",
       "      <td>40.75</td>\n",
       "      <td>115</td>\n",
       "      <td>141.73</td>\n",
       "      <td>0</td>\n",
       "      <td>1</td>\n",
       "      <td>17</td>\n",
       "      <td>5</td>\n",
       "      <td>0.052174</td>\n",
       "      <td>0.166667</td>\n",
       "      <td>16.333333</td>\n",
       "    </tr>\n",
       "    <tr>\n",
       "      <th>40</th>\n",
       "      <td>41</td>\n",
       "      <td>Shivam Dube</td>\n",
       "      <td>MCA</td>\n",
       "      <td>161</td>\n",
       "      <td>5</td>\n",
       "      <td>5</td>\n",
       "      <td>1</td>\n",
       "      <td>63</td>\n",
       "      <td>40.25</td>\n",
       "      <td>116</td>\n",
       "      <td>138.79</td>\n",
       "      <td>0</td>\n",
       "      <td>1</td>\n",
       "      <td>10</td>\n",
       "      <td>10</td>\n",
       "      <td>0.034483</td>\n",
       "      <td>0.200000</td>\n",
       "      <td>20.000000</td>\n",
       "    </tr>\n",
       "    <tr>\n",
       "      <th>42</th>\n",
       "      <td>43</td>\n",
       "      <td>Aniruddha</td>\n",
       "      <td>KSCA</td>\n",
       "      <td>160</td>\n",
       "      <td>6</td>\n",
       "      <td>6</td>\n",
       "      <td>1</td>\n",
       "      <td>64*</td>\n",
       "      <td>32.00</td>\n",
       "      <td>152</td>\n",
       "      <td>105.26</td>\n",
       "      <td>0</td>\n",
       "      <td>1</td>\n",
       "      <td>8</td>\n",
       "      <td>5</td>\n",
       "      <td>0.032895</td>\n",
       "      <td>0.166667</td>\n",
       "      <td>10.333333</td>\n",
       "    </tr>\n",
       "    <tr>\n",
       "      <th>49</th>\n",
       "      <td>50</td>\n",
       "      <td>Lalit Yadav</td>\n",
       "      <td>DDCA</td>\n",
       "      <td>152</td>\n",
       "      <td>5</td>\n",
       "      <td>5</td>\n",
       "      <td>4</td>\n",
       "      <td>52*</td>\n",
       "      <td>152.00</td>\n",
       "      <td>77</td>\n",
       "      <td>197.40</td>\n",
       "      <td>0</td>\n",
       "      <td>1</td>\n",
       "      <td>17</td>\n",
       "      <td>7</td>\n",
       "      <td>0.012987</td>\n",
       "      <td>0.200000</td>\n",
       "      <td>22.000000</td>\n",
       "    </tr>\n",
       "    <tr>\n",
       "      <th>58</th>\n",
       "      <td>59</td>\n",
       "      <td>Abdul Samad</td>\n",
       "      <td>JKCA</td>\n",
       "      <td>140</td>\n",
       "      <td>5</td>\n",
       "      <td>4</td>\n",
       "      <td>1</td>\n",
       "      <td>54*</td>\n",
       "      <td>46.67</td>\n",
       "      <td>94</td>\n",
       "      <td>148.93</td>\n",
       "      <td>0</td>\n",
       "      <td>1</td>\n",
       "      <td>8</td>\n",
       "      <td>10</td>\n",
       "      <td>0.042553</td>\n",
       "      <td>0.250000</td>\n",
       "      <td>23.000000</td>\n",
       "    </tr>\n",
       "  </tbody>\n",
       "</table>\n",
       "</div>"
      ],
      "text/plain": [
       "    Pos             Player  Team  Runs  Mat  Inns  NO   HS     Avg   BF  \\\n",
       "5     6        Riyan Parag  ASCA   261    5     5   2  77*   87.00  184   \n",
       "27   28     Dinesh Karthik  TNCA   183    8     6   3  47*   61.00  116   \n",
       "32   33       Karan Sharma  UPCA   168    5     5   1  68*   42.00  103   \n",
       "35   36      Ashok Menaria   RCA   166    7     7   1   67   27.67  134   \n",
       "36   37  K B Arun Karthick  TNCA   163    8     6   2  89*   40.75  115   \n",
       "40   41        Shivam Dube   MCA   161    5     5   1   63   40.25  116   \n",
       "42   43          Aniruddha  KSCA   160    6     6   1  64*   32.00  152   \n",
       "49   50        Lalit Yadav  DDCA   152    5     5   4  52*  152.00   77   \n",
       "58   59        Abdul Samad  JKCA   140    5     4   1  54*   46.67   94   \n",
       "\n",
       "        SR  100  50  4s  6s   outrate       MRA       BRPI  \n",
       "5   141.84    0   3  13  17  0.016304  0.600000  30.800000  \n",
       "27  157.75    0   0  18   6  0.043103  0.000000  18.000000  \n",
       "32  163.10    0   2  14  10  0.038835  0.400000  23.200000  \n",
       "35  123.88    0   2  16   5  0.044776  0.285714  13.428571  \n",
       "36  141.73    0   1  17   5  0.052174  0.166667  16.333333  \n",
       "40  138.79    0   1  10  10  0.034483  0.200000  20.000000  \n",
       "42  105.26    0   1   8   5  0.032895  0.166667  10.333333  \n",
       "49  197.40    0   1  17   7  0.012987  0.200000  22.000000  \n",
       "58  148.93    0   1   8  10  0.042553  0.250000  23.000000  "
      ]
     },
     "execution_count": 98,
     "metadata": {},
     "output_type": "execute_result"
    }
   ],
   "source": [
    "lowermiddleorder"
   ]
  },
  {
   "cell_type": "code",
   "execution_count": null,
   "id": "e640ed76",
   "metadata": {},
   "outputs": [],
   "source": []
  },
  {
   "cell_type": "code",
   "execution_count": null,
   "id": "73f07705",
   "metadata": {},
   "outputs": [],
   "source": []
  }
 ],
 "metadata": {
  "kernelspec": {
   "display_name": "Python 3",
   "language": "python",
   "name": "python3"
  },
  "language_info": {
   "codemirror_mode": {
    "name": "ipython",
    "version": 3
   },
   "file_extension": ".py",
   "mimetype": "text/x-python",
   "name": "python",
   "nbconvert_exporter": "python",
   "pygments_lexer": "ipython3",
   "version": "3.8.8"
  }
 },
 "nbformat": 4,
 "nbformat_minor": 5
}
