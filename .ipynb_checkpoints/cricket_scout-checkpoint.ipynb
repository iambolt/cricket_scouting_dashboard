{
 "cells": [
  {
   "cell_type": "code",
   "execution_count": 23,
   "id": "88d8235d",
   "metadata": {
    "scrolled": true
   },
   "outputs": [],
   "source": [
    "import pandas as pd\n",
    "from selenium import webdriver\n",
    "from bs4 import BeautifulSoup\n",
    "url = 'http://www.bcci.tv/domestic/22699/syed-mushtaq-ali-trophy-2020-21/stats/most-runs'\n"
   ]
  },
  {
   "cell_type": "code",
   "execution_count": 24,
   "id": "e253dd30",
   "metadata": {},
   "outputs": [
    {
     "name": "stdout",
     "output_type": "stream",
     "text": [
      "Total tables: 1\n",
      "    Pos             Player  Team  Runs  Mat  Inns  NO   HS    Avg   BF  \\\n",
      "0     1       N Jagadeesan  TNCA   364    8     8   3  78*  72.80  258   \n",
      "1     2      Kedar Devdhar   BCA   349    8     8   3  99*  69.80  307   \n",
      "2     3  Prabhsimran Singh   PCA   341    7     7   3  89*  85.25  240   \n",
      "3     4          A A Barot   SCA   283    5     5   0  122  56.60  153   \n",
      "4     5     Vishnu Solanki   BCA   267    8     8   3  71*  53.40  208   \n",
      "..  ...                ...   ...   ...  ...   ...  ..  ...    ...  ...   \n",
      "95   96     M B Mura Singh   TCA   101    5     5   2  61*  33.67   72   \n",
      "96   97  Rajjakuddin Ahmed  ASCA   101    5     5   1   32  25.25   56   \n",
      "97   98           U U Bose   TCA   100    5     4   0   50  25.00   84   \n",
      "98   99         Anuj Rawat  DDCA    99    5     5   3  34*  49.50   75   \n",
      "99  100    Akhilesh Sahani  ARCA    99    5     5   1  41*  24.75   71   \n",
      "\n",
      "        SR  100  50  4s  6s  \n",
      "0   141.08    0   4  31  17  \n",
      "1   113.68    0   2  35  11  \n",
      "2   142.08    0   3  24  22  \n",
      "3   184.96    1   1  32  12  \n",
      "4   128.36    0   2  21  12  \n",
      "..     ...  ...  ..  ..  ..  \n",
      "95  140.27    0   1   5   6  \n",
      "96  180.35    0   0  10   5  \n",
      "97  119.04    0   1  12   4  \n",
      "98  132.00    0   0  10   5  \n",
      "99  139.43    0   0   8   6  \n",
      "\n",
      "[100 rows x 15 columns]\n"
     ]
    }
   ],
   "source": [
    "driver = webdriver.Chrome()\n",
    "# Load the web page\n",
    "driver.get(url)# Wait for the page to fully load\n",
    "driver.implicitly_wait(5)\n",
    "soup = BeautifulSoup(driver.page_source, 'lxml')\n",
    "tables = soup.find_all('table')\n",
    "\n",
    "# Step 3: Read tables with Pandas read_html()\n",
    "dfs = pd.read_html(str(tables))\n",
    "\n",
    "print(f'Total tables: {len(dfs)}')\n",
    "print(dfs[0])\n",
    "\n",
    "driver.close()"
   ]
  },
  {
   "cell_type": "code",
   "execution_count": null,
   "id": "0d771127",
   "metadata": {},
   "outputs": [],
   "source": []
  }
 ],
 "metadata": {
  "kernelspec": {
   "display_name": "Python 3",
   "language": "python",
   "name": "python3"
  },
  "language_info": {
   "codemirror_mode": {
    "name": "ipython",
    "version": 3
   },
   "file_extension": ".py",
   "mimetype": "text/x-python",
   "name": "python",
   "nbconvert_exporter": "python",
   "pygments_lexer": "ipython3",
   "version": "3.8.8"
  }
 },
 "nbformat": 4,
 "nbformat_minor": 5
}
